{
 "cells": [
  {
   "cell_type": "markdown",
   "id": "c99afa57",
   "metadata": {},
   "source": [
    "### Data Processing"
   ]
  },
  {
   "cell_type": "code",
   "execution_count": null,
   "id": "f068d5b1",
   "metadata": {},
   "outputs": [],
   "source": [
    "# Import dependencies\n",
    "import pandas as pd\n",
    "import matplotlib.pyplot as plt\n",
    "import seaborn as sn\n",
    "\n",
    "from sklearn.model_selection import train_test_split\n",
    "from sklearn.linear_model import LinearRegression\n",
    "from sklearn.ensemble import RandomForestRegressor"
   ]
  },
  {
   "cell_type": "code",
   "execution_count": null,
   "id": "f0ac54b4",
   "metadata": {},
   "outputs": [],
   "source": [
    "# Import NY later\n",
    "listings = pd.read_csv('Data/New_York_City.csv')"
   ]
  },
  {
   "cell_type": "code",
   "execution_count": null,
   "id": "148fa89a",
   "metadata": {},
   "outputs": [],
   "source": [
    "# Add city column\n",
    "listings['city'] = 'New York City'\n",
    "listings.tail()"
   ]
  },
  {
   "cell_type": "code",
   "execution_count": null,
   "id": "84e61ac8",
   "metadata": {
    "scrolled": true
   },
   "outputs": [],
   "source": [
    "# See all columns in merged dataset\n",
    "listings.columns"
   ]
  },
  {
   "cell_type": "code",
   "execution_count": null,
   "id": "a59e689a",
   "metadata": {
    "scrolled": true
   },
   "outputs": [],
   "source": [
    "# Identify columns with null values exceeding 1500\n",
    "null_check = listings.isna().sum()\n",
    "remove_column_indices = []\n",
    "remove_columns = []\n",
    "[remove_columns.append(null_check.index[i]) for i in range(len(null_check)) if null_check[i] > 1500]\n",
    "remove_columns"
   ]
  },
  {
   "cell_type": "code",
   "execution_count": null,
   "id": "adc0aba7",
   "metadata": {},
   "outputs": [],
   "source": [
    "# Check columns with most null values\n",
    "null_check.sort_values(ascending=False).head(20)"
   ]
  },
  {
   "cell_type": "code",
   "execution_count": null,
   "id": "9110a14f",
   "metadata": {},
   "outputs": [],
   "source": [
    "# Drop all rows with null values\n",
    "# listings.dropna(inplace=True)"
   ]
  },
  {
   "cell_type": "code",
   "execution_count": null,
   "id": "4162dbf3",
   "metadata": {},
   "outputs": [],
   "source": [
    "# Convert t/f to 1/0\n",
    "listings['host_is_superhost'] = listings['host_is_superhost']\\\n",
    "                                .apply(lambda value: 1 if value == 't' else 0)\n",
    "\n",
    "listings['instant_bookable'] = listings['instant_bookable']\\\n",
    "                                .apply(lambda value: 1 if value == 't' else 0)\n",
    "listings.head()"
   ]
  },
  {
   "cell_type": "code",
   "execution_count": null,
   "id": "4bb6b8b0",
   "metadata": {},
   "outputs": [],
   "source": [
    "# Convert price variable to float\n",
    "listings['price_int'] = listings['price'].str.replace('$', '')\n",
    "listings['price_int'] = listings['price_int'].str.replace(',', '')\n",
    "listings['price_int'] = listings['price_int'].astype(float)\n",
    "listings['price_int'].dtype"
   ]
  },
  {
   "cell_type": "code",
   "execution_count": null,
   "id": "9af3a18d",
   "metadata": {},
   "outputs": [],
   "source": [
    "# Convert host acceptance rate from string to float\n",
    "listings['host_acceptance_rate'] = listings['host_acceptance_rate']\\\n",
    "                                .str.replace('%', '').astype(float)\n",
    "\n",
    "listings['host_acceptance_rate'].dtype"
   ]
  },
  {
   "cell_type": "code",
   "execution_count": null,
   "id": "f9c5e670",
   "metadata": {},
   "outputs": [],
   "source": [
    "# Distinguish between long-term and short-term rentals\n",
    "listings.loc[listings['minimum_nights'] < 30, 'short-term'] = 1\n",
    "listings.loc[listings['minimum_nights'] >= 30, 'short-term'] = 0"
   ]
  },
  {
   "cell_type": "code",
   "execution_count": null,
   "id": "f8446e66",
   "metadata": {
    "scrolled": true
   },
   "outputs": [],
   "source": [
    "listings.columns"
   ]
  },
  {
   "cell_type": "code",
   "execution_count": null,
   "id": "12d38f57",
   "metadata": {},
   "outputs": [],
   "source": [
    "model_data = pd.DataFrame(listings[['host_acceptance_rate',\n",
    "       'host_is_superhost', 'host_listings_count', 'short-term',\n",
    "       'host_total_listings_count', 'host_verifications',\n",
    "       'host_has_profile_pic', 'host_identity_verified',\n",
    "       'neighbourhood_cleansed', 'latitude',\n",
    "       'longitude', 'property_type', 'room_type', 'accommodates',\n",
    "       'bathrooms_text', 'bedrooms', 'beds', 'amenities', 'price',\n",
    "       'minimum_nights', 'maximum_nights', 'minimum_minimum_nights',\n",
    "       'maximum_minimum_nights', 'minimum_maximum_nights',\n",
    "       'maximum_maximum_nights', 'minimum_nights_avg_ntm',\n",
    "       'maximum_nights_avg_ntm', 'number_of_reviews', 'neighbourhood_group_cleansed',\n",
    "       'number_of_reviews_ltm', 'number_of_reviews_l30d', 'review_scores_rating', 'review_scores_accuracy',\n",
    "       'review_scores_cleanliness', 'review_scores_checkin',\n",
    "       'review_scores_communication', 'review_scores_location',\n",
    "       'review_scores_value', 'instant_bookable',\n",
    "       'calculated_host_listings_count',\n",
    "       'calculated_host_listings_count_entire_homes',\n",
    "       'calculated_host_listings_count_private_rooms',\n",
    "       'calculated_host_listings_count_shared_rooms',\n",
    "       'city', 'price_int']])"
   ]
  },
  {
   "cell_type": "code",
   "execution_count": null,
   "id": "d751584f",
   "metadata": {},
   "outputs": [],
   "source": [
    "# Create bins for the number of reviews that a listing has\n",
    "model_data.loc[model_data['number_of_reviews'] == 0, 'review_count_bin'] = 'No reviews'\n",
    "model_data.loc[(model_data['number_of_reviews'] > 0) \\\n",
    "               & (model_data['number_of_reviews'] < 10), 'review_count_bin'] = 'Less than 10'\n",
    "model_data.loc[(model_data['number_of_reviews'] >= 10) \\\n",
    "               & (model_data['number_of_reviews'] < 50), 'review_count_bin'] = 'Between 10 and 50'\n",
    "model_data.loc[(model_data['number_of_reviews'] >= 50) \\\n",
    "               & (model_data['number_of_reviews'] < 200), 'review_count_bin'] = 'Between 50 and 200'\n",
    "model_data.loc[model_data['number_of_reviews'] >= 200, 'review_count_bin'] = '200 or greater'"
   ]
  },
  {
   "cell_type": "code",
   "execution_count": null,
   "id": "346c4f5e",
   "metadata": {},
   "outputs": [],
   "source": [
    "# Checks whether listing has A/C or a washer/dryer and adds dummy columns\n",
    "\n",
    "# Initialize empty lists\n",
    "air_conditioning = []\n",
    "washer_dryer = []\n",
    "num_amenities = []\n",
    "\n",
    "# Loops through each listing's amenities to look for air conditioning or washer/dryer\n",
    "listings_amenities = list(model_data['amenities'])\n",
    "for amenities in listings_amenities:\n",
    "    amenities = amenities.replace('\"','')\n",
    "    amenities_list = amenities.split(', ')\n",
    "    air_check = [1 if item == 'Air conditioning' else 0 for item in amenities_list]\n",
    "    air_conditioning.append(max(air_check))\n",
    "    laundry_check = [1 if (item == 'Washer' or item == 'Dryer') else 0 for item in amenities_list]\n",
    "    washer_dryer.append(max(laundry_check))\n",
    "    num_amenities.append(len(amenities_list))\n",
    "\n",
    "# Creates dataframe columns\n",
    "model_data['air_conditioning'] = pd.Series(air_conditioning)\n",
    "model_data['washer_dryer'] = pd.Series(washer_dryer)\n",
    "model_data['num_amenities'] = pd.Series(num_amenities)"
   ]
  },
  {
   "cell_type": "code",
   "execution_count": null,
   "id": "5533fffa",
   "metadata": {},
   "outputs": [],
   "source": [
    "model_data['bedrooms_per_accomodates'] = model_data['bedrooms'] / model_data['accommodates']"
   ]
  },
  {
   "cell_type": "code",
   "execution_count": null,
   "id": "91574ba9",
   "metadata": {},
   "outputs": [],
   "source": [
    "# Summarize model data\n",
    "# model_data.dropna(inplace=True)\n",
    "model_data.describe()"
   ]
  },
  {
   "cell_type": "code",
   "execution_count": null,
   "id": "aa31fe6e",
   "metadata": {},
   "outputs": [],
   "source": [
    "# listings.to_csv('Data/Consolidated_Data.csv')"
   ]
  },
  {
   "cell_type": "markdown",
   "id": "d8458db2",
   "metadata": {},
   "source": [
    "### Data Investigation and Outlier Identification"
   ]
  },
  {
   "cell_type": "code",
   "execution_count": null,
   "id": "defa5b8c",
   "metadata": {
    "scrolled": true
   },
   "outputs": [],
   "source": [
    "# Check average price and count of listings by neighborhood\n",
    "avg_price_by_neighborhood = listings.groupby(by=['neighbourhood_cleansed'])['price_int']\\\n",
    "                    .agg(['mean','count'])\n",
    "avg_price_by_neighborhood = pd.DataFrame(avg_price_by_neighborhood)\n",
    "avg_price_by_neighborhood.sort_values(['count'],ascending=True).head(20)"
   ]
  },
  {
   "cell_type": "code",
   "execution_count": null,
   "id": "68a056d5",
   "metadata": {},
   "outputs": [],
   "source": [
    "# Find neighborhoods with greater than 5 listings\n",
    "neighborhoods_retain = avg_price_by_neighborhood.loc[avg_price_by_neighborhood['count'] > 5]"
   ]
  },
  {
   "cell_type": "code",
   "execution_count": null,
   "id": "b8588772",
   "metadata": {},
   "outputs": [],
   "source": [
    "# Check distribution of number of reviews\n",
    "model_data.groupby(by=['review_count_bin'])['price_int']\\\n",
    "                    .agg(['mean','count'])"
   ]
  },
  {
   "cell_type": "code",
   "execution_count": null,
   "id": "18c7268b",
   "metadata": {},
   "outputs": [],
   "source": [
    "# Assemble boxplot data for plotting prices per burrough\n",
    "burroughs = list(listings['neighbourhood_group_cleansed'].unique())\n",
    "\n",
    "boxplot_data = []\n",
    "for burrough in burroughs:\n",
    "#     burrough_data = listings.loc[listings['neighbourhood_group_cleansed'] == burrough]\n",
    "    burrough_data = model_data.loc[model_data['neighbourhood_group_cleansed'] == burrough]\n",
    "    boxplot_data.append(burrough_data['price_int'])\n",
    "    \n",
    "# Price by burrough\n",
    "plt.boxplot(boxplot_data,labels=burroughs);\n",
    "plt.ylabel('Price');\n",
    "plt.title('Listing Price by Borough');"
   ]
  },
  {
   "cell_type": "code",
   "execution_count": null,
   "id": "bab5f52a",
   "metadata": {},
   "outputs": [],
   "source": [
    "# Determine max price by burrough and calculate 50% of max price\n",
    "max_price_by_burrough = pd.DataFrame(listings.groupby(by='neighbourhood_group_cleansed',\n",
    "                                                     as_index = False)\n",
    "                                     ['price_int'].max())\n",
    "max_price_by_burrough['price_cutoff'] = max_price_by_burrough['price_int'] / 2\n",
    "max_price_by_burrough.rename(columns={'price_int' : 'max_burrough_price'},inplace=True)"
   ]
  },
  {
   "cell_type": "code",
   "execution_count": null,
   "id": "7bb65db8",
   "metadata": {
    "scrolled": true
   },
   "outputs": [],
   "source": [
    "# Check average price and count of listings by neighborhood\n",
    "price_by_type = listings.groupby(by=['property_type'])['price_int']\\\n",
    "                    .agg(['mean','count'])\n",
    "price_by_type = pd.DataFrame(price_by_type)\n",
    "price_by_type.sort_values(['count'],ascending=True).head(40)\n",
    "drop_property_types = price_by_type.loc[price_by_type['count'] <= 5].index\n",
    "list(drop_property_types)"
   ]
  },
  {
   "cell_type": "code",
   "execution_count": null,
   "id": "e574b560",
   "metadata": {
    "scrolled": false
   },
   "outputs": [],
   "source": [
    "# Check average price and count of listings by neighborhood\n",
    "price_by_rooms = listings.groupby(by=['bedrooms'])['price_int']\\\n",
    "                    .agg(['mean','count'])\n",
    "price_by_rooms = pd.DataFrame(price_by_rooms)\n",
    "price_by_rooms.sort_values(['count'],ascending=True).head()"
   ]
  },
  {
   "cell_type": "code",
   "execution_count": null,
   "id": "71e0bf92",
   "metadata": {},
   "outputs": [],
   "source": [
    "plt.scatter(x=listings['number_of_reviews'],y=listings['price_int'],c=listings['greater_than_20']);\n",
    "plt.xlabel('Number of Reviews');\n",
    "plt.ylabel('Price');"
   ]
  },
  {
   "cell_type": "markdown",
   "id": "d14f9184",
   "metadata": {},
   "source": [
    "### Outlier Removal"
   ]
  },
  {
   "cell_type": "code",
   "execution_count": null,
   "id": "bac0e216",
   "metadata": {},
   "outputs": [],
   "source": [
    "# Remove listings with more than 10 rooms\n",
    "model_data = model_data.loc[model_data['bedrooms'] <= 10]\n",
    "\n",
    "# Remove listings with a minimum stay greater than a year\n",
    "model_data = model_data.loc[model_data['minimum_nights'] < 365]"
   ]
  },
  {
   "cell_type": "code",
   "execution_count": null,
   "id": "a72fe417",
   "metadata": {},
   "outputs": [],
   "source": [
    "# Remove listings for property types with count less than 6\n",
    "model_data = model_data[~model_data['property_type'].isin(drop_property_types)]"
   ]
  },
  {
   "cell_type": "code",
   "execution_count": null,
   "id": "903b1bc3",
   "metadata": {
    "scrolled": true
   },
   "outputs": [],
   "source": [
    "# Remove listings at a price that exceeds 50% of the max price for each burrough\n",
    "model_data = pd.merge(model_data,max_price_by_burrough,how='left',on='neighbourhood_group_cleansed')\n",
    "model_data = model_data.loc[model_data['price_int'] < model_data['price_cutoff']]\n",
    "model_data.head()"
   ]
  },
  {
   "cell_type": "code",
   "execution_count": null,
   "id": "f91f4f4d",
   "metadata": {},
   "outputs": [],
   "source": [
    "# Limit to listings with at least 20 reviews\n",
    "model_data = model_data.loc[model_data['number_of_reviews'] > 20]"
   ]
  },
  {
   "cell_type": "markdown",
   "id": "e788e294",
   "metadata": {},
   "source": [
    "### Modeling"
   ]
  },
  {
   "cell_type": "markdown",
   "id": "fc9b6140",
   "metadata": {},
   "source": [
    "#### Linear Model"
   ]
  },
  {
   "cell_type": "code",
   "execution_count": null,
   "id": "0f02b6ba",
   "metadata": {},
   "outputs": [],
   "source": [
    "# initialize empty list to store linear model results\n",
    "results_tracker = []\n",
    "\n",
    "def linear_model(data):\n",
    "    # Removes any lingering null values - may need to rethink location of this\n",
    "    data.dropna(inplace=True)\n",
    "    # Assign X and y\n",
    "    y = data['price_int']\n",
    "    X = data.drop(columns='price_int').values\n",
    "\n",
    "    # Split the data into train and test data\n",
    "    X_train, X_test, y_train, y_test = train_test_split(X,y,random_state=1)\n",
    "\n",
    "    # Instantiate and train the model\n",
    "    reg = LinearRegression()\n",
    "    reg.fit(X_train,y_train)\n",
    "    reg.score(X_train,y_train)\n",
    "    \n",
    "    print(f'Train score:\\t {reg.score(X_train,y_train)}')\n",
    "    print(f'Test score:\\t {reg.score(X_test,y_test)}')\n",
    "    \n",
    "    # Save the results into the results_tracker\n",
    "    results = {'train score' : reg.score(X_train,y_train),\n",
    "              'test score' : reg.score(X_test,y_test),\n",
    "              'features' : list(data.columns)}\n",
    "    results_tracker.append(results)"
   ]
  },
  {
   "cell_type": "markdown",
   "id": "486295b1",
   "metadata": {},
   "source": [
    "#### Run Linear Models"
   ]
  },
  {
   "cell_type": "code",
   "execution_count": null,
   "id": "d4dda606",
   "metadata": {},
   "outputs": [],
   "source": [
    "model_data_1 = model_data[['price_int','bedrooms','accommodates']]"
   ]
  },
  {
   "cell_type": "code",
   "execution_count": null,
   "id": "3d5f34d7",
   "metadata": {},
   "outputs": [],
   "source": [
    "linear_model(model_data_1)"
   ]
  },
  {
   "cell_type": "code",
   "execution_count": null,
   "id": "bf033910",
   "metadata": {},
   "outputs": [],
   "source": [
    "model_data_2 = model_data[['price_int','accommodates','review_scores_rating']]"
   ]
  },
  {
   "cell_type": "code",
   "execution_count": null,
   "id": "28d2f7de",
   "metadata": {},
   "outputs": [],
   "source": [
    "linear_model(model_data_2)"
   ]
  },
  {
   "cell_type": "code",
   "execution_count": null,
   "id": "ef1d6a5e",
   "metadata": {},
   "outputs": [],
   "source": [
    "model_data_3 = model_data[['host_is_superhost','room_type', 'accommodates','bedrooms','number_of_reviews', \n",
    "                   'review_scores_rating','city', 'price_int']]\n",
    "model_data_3 = pd.get_dummies(model_data_3)"
   ]
  },
  {
   "cell_type": "code",
   "execution_count": null,
   "id": "3c40ea8b",
   "metadata": {},
   "outputs": [],
   "source": [
    "linear_model(model_data_3)"
   ]
  },
  {
   "cell_type": "code",
   "execution_count": null,
   "id": "cbd9f596",
   "metadata": {},
   "outputs": [],
   "source": [
    "model_data_4 = pd.get_dummies(model_data[['price_int','review_count_bin','review_scores_accuracy',\n",
    "       'review_scores_cleanliness', 'review_scores_checkin', 'number_of_reviews','host_acceptance_rate',\n",
    "       'review_scores_communication', 'review_scores_location', 'instant_bookable',\n",
    "       'review_scores_value','host_is_superhost','accommodates','bedrooms','review_scores_rating','room_type']])"
   ]
  },
  {
   "cell_type": "code",
   "execution_count": null,
   "id": "37eec85d",
   "metadata": {},
   "outputs": [],
   "source": [
    "linear_model(model_data_4)"
   ]
  },
  {
   "cell_type": "code",
   "execution_count": null,
   "id": "a82b367a",
   "metadata": {},
   "outputs": [],
   "source": [
    "model_data_5 = pd.get_dummies(model_data[['price_int','city','accommodates', 'bedrooms',\n",
    "                                          'review_scores_rating','number_of_reviews',\n",
    "                                          'host_is_superhost','instant_bookable','room_type']])"
   ]
  },
  {
   "cell_type": "code",
   "execution_count": null,
   "id": "76cae801",
   "metadata": {},
   "outputs": [],
   "source": [
    "linear_model(model_data_5)"
   ]
  },
  {
   "cell_type": "code",
   "execution_count": null,
   "id": "44576cbb",
   "metadata": {},
   "outputs": [],
   "source": [
    "model_data_6 = pd.get_dummies(model_data[['price_int','neighbourhood_group_cleansed',\n",
    "                                          'accommodates', 'bedrooms', 'air_conditioning',\n",
    "                                          'review_scores_rating','review_count_bin',\n",
    "                                          'host_is_superhost','host_identity_verified','room_type']])"
   ]
  },
  {
   "cell_type": "code",
   "execution_count": null,
   "id": "68414d2e",
   "metadata": {},
   "outputs": [],
   "source": [
    "linear_model(model_data_6)"
   ]
  },
  {
   "cell_type": "code",
   "execution_count": null,
   "id": "db12bb7a",
   "metadata": {},
   "outputs": [],
   "source": [
    "model_data_7 = pd.get_dummies(model_data[['host_is_superhost','room_type', 'accommodates','bedrooms','number_of_reviews', \n",
    "                   'review_scores_rating','price_int','neighbourhood_group_cleansed']])"
   ]
  },
  {
   "cell_type": "code",
   "execution_count": null,
   "id": "a337c623",
   "metadata": {},
   "outputs": [],
   "source": [
    "linear_model(model_data_7)"
   ]
  },
  {
   "cell_type": "code",
   "execution_count": null,
   "id": "7080c91b",
   "metadata": {},
   "outputs": [],
   "source": [
    "model_data_8 = pd.get_dummies(model_data[['price_int','neighbourhood_group_cleansed',\n",
    "       'review_scores_cleanliness','host_acceptance_rate', 'review_scores_communication',\n",
    "        'review_scores_location', 'instant_bookable','short-term', 'review_scores_checkin',\n",
    "       'review_scores_value','accommodates','bedrooms','review_scores_rating','room_type']])"
   ]
  },
  {
   "cell_type": "code",
   "execution_count": null,
   "id": "aefcb14e",
   "metadata": {},
   "outputs": [],
   "source": [
    "linear_model(model_data_8)"
   ]
  },
  {
   "cell_type": "code",
   "execution_count": null,
   "id": "8b7d3215",
   "metadata": {},
   "outputs": [],
   "source": [
    "model_data_9 = pd.get_dummies(model_data[['price_int','neighbourhood_group_cleansed','review_scores_accuracy',\n",
    "       'review_scores_cleanliness', 'review_scores_checkin', 'review_count_bin','host_acceptance_rate',\n",
    "       'review_scores_communication', 'review_scores_location', 'instant_bookable','short-term', 'air_conditioning',\n",
    "       'review_scores_value','host_is_superhost','accommodates','bedrooms','review_scores_rating','room_type']])"
   ]
  },
  {
   "cell_type": "code",
   "execution_count": null,
   "id": "bd4fa24f",
   "metadata": {},
   "outputs": [],
   "source": [
    "linear_model(model_data_9)"
   ]
  },
  {
   "cell_type": "code",
   "execution_count": null,
   "id": "fdbbdb31",
   "metadata": {},
   "outputs": [],
   "source": [
    "model_data_10 = pd.get_dummies(model_data[['price_int', 'neighbourhood_group_cleansed',\n",
    "                                           'review_count_bin', 'air_conditioning','accommodates',\n",
    "                                           'instant_bookable', 'short-term', 'num_amenities',\n",
    "                                           'host_identity_verified', 'bedrooms', 'bedrooms_per_accomodates',\n",
    "                                           'room_type']])"
   ]
  },
  {
   "cell_type": "code",
   "execution_count": null,
   "id": "1b5fd2ea",
   "metadata": {},
   "outputs": [],
   "source": [
    "linear_model(model_data_10)"
   ]
  },
  {
   "cell_type": "code",
   "execution_count": null,
   "id": "279d0b86",
   "metadata": {},
   "outputs": [],
   "source": [
    "model_data_11 = pd.get_dummies(model_data[['price_int','neighbourhood_group_cleansed',\n",
    "       'review_scores_cleanliness', 'review_count_bin', 'air_conditioning',\n",
    "        'review_scores_location', 'instant_bookable','short-term', 'accommodates',\n",
    "       'review_scores_value','review_scores_rating','room_type']])"
   ]
  },
  {
   "cell_type": "code",
   "execution_count": null,
   "id": "2d97de5a",
   "metadata": {},
   "outputs": [],
   "source": [
    "linear_model(model_data_11)"
   ]
  },
  {
   "cell_type": "markdown",
   "id": "aa17791d",
   "metadata": {},
   "source": [
    "#### Review Results"
   ]
  },
  {
   "cell_type": "code",
   "execution_count": null,
   "id": "c03a2be9",
   "metadata": {},
   "outputs": [],
   "source": [
    "# Remove duplicates from results_tracker and sort results in order of best training score\n",
    "results_summary = []\n",
    "[results_summary.append(x) for x in results_tracker if x not in results_summary]\n",
    "results_summary.sort(key=lambda result: result['train score'],reverse=True)\n",
    "\n",
    "# Print best result\n",
    "print(f'Best training score: {results_summary[0][\"train score\"]}')\n",
    "print(f'Number of features: {len(results_summary[0][\"features\"])}')\n",
    "print(f'Best features: {results_summary[0][\"features\"]}')"
   ]
  },
  {
   "cell_type": "code",
   "execution_count": null,
   "id": "e2dabefa",
   "metadata": {},
   "outputs": [],
   "source": [
    "print(results_summary[1]['features'])"
   ]
  },
  {
   "cell_type": "code",
   "execution_count": null,
   "id": "cb9f61d7",
   "metadata": {},
   "outputs": [],
   "source": [
    "model_data['accommodates'].unique().max()"
   ]
  },
  {
   "cell_type": "markdown",
   "id": "250b28d9",
   "metadata": {},
   "source": [
    "#### Random Forest Regressor"
   ]
  },
  {
   "cell_type": "code",
   "execution_count": null,
   "id": "d9de113c",
   "metadata": {},
   "outputs": [],
   "source": [
    "rfr_results_tracker = []\n",
    "\n",
    "def random_forests(data):\n",
    "    # Removes any lingering null values - may need to rethink location of this\n",
    "    data.dropna(inplace=True)\n",
    "    # Assign X and y\n",
    "    y = data['price_int']\n",
    "    X = data.drop(columns='price_int').values\n",
    "\n",
    "    # Split the data into train and test data\n",
    "    X_train, X_test, y_train, y_test = train_test_split(X,y,random_state=9)\n",
    "\n",
    "    # Instantiate and train the model\n",
    "    rfr = RandomForestRegressor(random_state=9)\n",
    "    rfr.fit(X_train,y_train)\n",
    "    rfr.score(X_train,y_train)\n",
    "    \n",
    "    print(f'Train score:\\t {rfr.score(X_train,y_train)}')\n",
    "    print(f'Test score:\\t {rfr.score(X_test,y_test)}')\n",
    "    \n",
    "    # Save the results into the results_tracker\n",
    "    results = {'train score' : rfr.score(X_train,y_train),\n",
    "              'test score' : rfr.score(X_test,y_test),\n",
    "              'features' : list(data.columns)}\n",
    "    rfr_results_tracker.append(results)"
   ]
  },
  {
   "cell_type": "markdown",
   "id": "da49b631",
   "metadata": {},
   "source": [
    "#### Run Random Forests Models"
   ]
  },
  {
   "cell_type": "code",
   "execution_count": null,
   "id": "3b12a6dd",
   "metadata": {},
   "outputs": [],
   "source": [
    "random_forests(model_data_8)"
   ]
  },
  {
   "cell_type": "code",
   "execution_count": null,
   "id": "ffcb2e77",
   "metadata": {},
   "outputs": [],
   "source": [
    "random_forests(model_data_9)"
   ]
  },
  {
   "cell_type": "code",
   "execution_count": null,
   "id": "28d4c5a7",
   "metadata": {},
   "outputs": [],
   "source": [
    "random_forests(model_data_11)"
   ]
  },
  {
   "cell_type": "markdown",
   "id": "8bcdbf97",
   "metadata": {},
   "source": [
    "### Run and Export Final Model"
   ]
  },
  {
   "cell_type": "code",
   "execution_count": null,
   "id": "d7a30f70",
   "metadata": {},
   "outputs": [],
   "source": [
    "# Using model_data_8\n",
    "data = model_data_8\n",
    "\n",
    "# Removes any lingering null values - may need to rethink location of this\n",
    "data.dropna(inplace=True)\n",
    "# Assign X and y\n",
    "y = data['price_int']\n",
    "X = data.drop(columns='price_int').values\n",
    "\n",
    "# Split the data into train and test data\n",
    "X_train, X_test, y_train, y_test = train_test_split(X,y,random_state=9)\n",
    "\n",
    "# Instantiate and train the model\n",
    "rfr = RandomForestRegressor(random_state=9)\n",
    "rfr.fit(X_train,y_train)\n",
    "rfr.score(X_train,y_train)\n",
    "    \n",
    "print(f'Train score:\\t {rfr.score(X_train,y_train)}')\n",
    "print(f'Test score:\\t {rfr.score(X_test,y_test)}')"
   ]
  },
  {
   "cell_type": "code",
   "execution_count": null,
   "id": "986d3a23",
   "metadata": {},
   "outputs": [],
   "source": [
    "# from joblib import dump, load\n",
    "# dump(rfr, 'random_forest_model_8.joblib')"
   ]
  },
  {
   "cell_type": "code",
   "execution_count": null,
   "id": "f9ad17f7",
   "metadata": {},
   "outputs": [],
   "source": [
    "# Rename columns for heatmap\n",
    "heatmap_data = model_data_8\n",
    "heatmap_data.columns = ['Price','Cleanliness Score','Host Acceptance Rate',\n",
    "                             'Communication Score', 'Location Score', 'Instant Bookable',\n",
    "                             'Short-term', 'Checkin Score', 'Value Score','Accommodates',\n",
    "                             'Bedrooms', 'Overall Score', 'Borough - Bronx', 'Borough - Brooklyn',\n",
    "                             'Borough - Manhattan', 'Borough - Queens', 'Borough - Staten Island',\n",
    "                             'Entire home', 'Hotel room', 'Private room', 'Shared room']"
   ]
  },
  {
   "cell_type": "code",
   "execution_count": null,
   "id": "59ee8230",
   "metadata": {},
   "outputs": [],
   "source": [
    "# Plot correlation heatmap using Seaborn\n",
    "sn.heatmap(heatmap_data.corr());\n",
    "plt.title('Correlation Heatmap');\n",
    "plt.savefig('images/correlation_matrix.png')"
   ]
  },
  {
   "cell_type": "code",
   "execution_count": null,
   "id": "914871a5",
   "metadata": {},
   "outputs": [],
   "source": []
  }
 ],
 "metadata": {
  "kernelspec": {
   "display_name": "Python [conda env:PythonData38] *",
   "language": "python",
   "name": "conda-env-PythonData38-py"
  },
  "language_info": {
   "codemirror_mode": {
    "name": "ipython",
    "version": 3
   },
   "file_extension": ".py",
   "mimetype": "text/x-python",
   "name": "python",
   "nbconvert_exporter": "python",
   "pygments_lexer": "ipython3",
   "version": "3.8.12"
  }
 },
 "nbformat": 4,
 "nbformat_minor": 5
}
