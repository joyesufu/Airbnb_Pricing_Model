{
 "cells": [
  {
   "cell_type": "markdown",
   "id": "c99afa57",
   "metadata": {},
   "source": [
    "### Data Processing"
   ]
  },
  {
   "cell_type": "code",
   "execution_count": 1,
   "id": "f068d5b1",
   "metadata": {},
   "outputs": [],
   "source": [
    "# Import dependencies\n",
    "import pandas as pd\n",
    "import matplotlib.pyplot as plt\n",
    "import seaborn as sn\n",
    "\n",
    "from sklearn.model_selection import train_test_split\n",
    "from sklearn.linear_model import LinearRegression\n",
    "from sklearn.ensemble import RandomForestRegressor"
   ]
  },
  {
   "cell_type": "code",
   "execution_count": 2,
   "id": "f0ac54b4",
   "metadata": {},
   "outputs": [
    {
     "name": "stderr",
     "output_type": "stream",
     "text": [
      "C:\\Users\\jyesu_000\\anaconda3\\envs\\PythonData38\\lib\\site-packages\\IPython\\core\\interactiveshell.py:3444: DtypeWarning: Columns (67) have mixed types.Specify dtype option on import or set low_memory=False.\n",
      "  exec(code_obj, self.user_global_ns, self.user_ns)\n"
     ]
    }
   ],
   "source": [
    "# Import NY later\n",
    "listings = pd.read_csv('Data/New_York_City.csv')"
   ]
  },
  {
   "cell_type": "code",
   "execution_count": 3,
   "id": "148fa89a",
   "metadata": {},
   "outputs": [
    {
     "data": {
      "text/html": [
       "<div>\n",
       "<style scoped>\n",
       "    .dataframe tbody tr th:only-of-type {\n",
       "        vertical-align: middle;\n",
       "    }\n",
       "\n",
       "    .dataframe tbody tr th {\n",
       "        vertical-align: top;\n",
       "    }\n",
       "\n",
       "    .dataframe thead th {\n",
       "        text-align: right;\n",
       "    }\n",
       "</style>\n",
       "<table border=\"1\" class=\"dataframe\">\n",
       "  <thead>\n",
       "    <tr style=\"text-align: right;\">\n",
       "      <th></th>\n",
       "      <th>id</th>\n",
       "      <th>listing_url</th>\n",
       "      <th>scrape_id</th>\n",
       "      <th>last_scraped</th>\n",
       "      <th>name</th>\n",
       "      <th>description</th>\n",
       "      <th>neighborhood_overview</th>\n",
       "      <th>picture_url</th>\n",
       "      <th>host_id</th>\n",
       "      <th>host_url</th>\n",
       "      <th>...</th>\n",
       "      <th>review_scores_location</th>\n",
       "      <th>review_scores_value</th>\n",
       "      <th>license</th>\n",
       "      <th>instant_bookable</th>\n",
       "      <th>calculated_host_listings_count</th>\n",
       "      <th>calculated_host_listings_count_entire_homes</th>\n",
       "      <th>calculated_host_listings_count_private_rooms</th>\n",
       "      <th>calculated_host_listings_count_shared_rooms</th>\n",
       "      <th>reviews_per_month</th>\n",
       "      <th>city</th>\n",
       "    </tr>\n",
       "  </thead>\n",
       "  <tbody>\n",
       "    <tr>\n",
       "      <th>37405</th>\n",
       "      <td>6.406120e+17</td>\n",
       "      <td>https://www.airbnb.com/rooms/640612171111039003</td>\n",
       "      <td>2.022060e+13</td>\n",
       "      <td>6/4/22</td>\n",
       "      <td>2nd Floor near Park and Ferry to NYC</td>\n",
       "      <td>NaN</td>\n",
       "      <td>NaN</td>\n",
       "      <td>https://a0.muscache.com/pictures/255e6d38-ce3f...</td>\n",
       "      <td>32162495</td>\n",
       "      <td>https://www.airbnb.com/users/show/32162495</td>\n",
       "      <td>...</td>\n",
       "      <td>NaN</td>\n",
       "      <td>NaN</td>\n",
       "      <td>NaN</td>\n",
       "      <td>f</td>\n",
       "      <td>3</td>\n",
       "      <td>3</td>\n",
       "      <td>0</td>\n",
       "      <td>0</td>\n",
       "      <td>NaN</td>\n",
       "      <td>New York City</td>\n",
       "    </tr>\n",
       "    <tr>\n",
       "      <th>37406</th>\n",
       "      <td>6.406300e+17</td>\n",
       "      <td>https://www.airbnb.com/rooms/640629990855220048</td>\n",
       "      <td>2.022060e+13</td>\n",
       "      <td>6/4/22</td>\n",
       "      <td>Empire House by Rove | Modern Williamsburg 3 B...</td>\n",
       "      <td>**New photos of new bedding arrangements and h...</td>\n",
       "      <td>NaN</td>\n",
       "      <td>https://a0.muscache.com/pictures/prohost-api/H...</td>\n",
       "      <td>404940500</td>\n",
       "      <td>https://www.airbnb.com/users/show/404940500</td>\n",
       "      <td>...</td>\n",
       "      <td>NaN</td>\n",
       "      <td>NaN</td>\n",
       "      <td>NaN</td>\n",
       "      <td>f</td>\n",
       "      <td>5</td>\n",
       "      <td>5</td>\n",
       "      <td>0</td>\n",
       "      <td>0</td>\n",
       "      <td>NaN</td>\n",
       "      <td>New York City</td>\n",
       "    </tr>\n",
       "    <tr>\n",
       "      <th>37407</th>\n",
       "      <td>6.406580e+17</td>\n",
       "      <td>https://www.airbnb.com/rooms/640658348674867448</td>\n",
       "      <td>2.022060e+13</td>\n",
       "      <td>6/4/22</td>\n",
       "      <td>Private room with Shared bath on Union Square 5</td>\n",
       "      <td>Thank you for your interest.&lt;br /&gt;Who do you r...</td>\n",
       "      <td>NaN</td>\n",
       "      <td>https://a0.muscache.com/pictures/prohost-api/H...</td>\n",
       "      <td>408979935</td>\n",
       "      <td>https://www.airbnb.com/users/show/408979935</td>\n",
       "      <td>...</td>\n",
       "      <td>NaN</td>\n",
       "      <td>NaN</td>\n",
       "      <td>NaN</td>\n",
       "      <td>t</td>\n",
       "      <td>16</td>\n",
       "      <td>0</td>\n",
       "      <td>16</td>\n",
       "      <td>0</td>\n",
       "      <td>NaN</td>\n",
       "      <td>New York City</td>\n",
       "    </tr>\n",
       "    <tr>\n",
       "      <th>37408</th>\n",
       "      <td>6.410720e+17</td>\n",
       "      <td>https://www.airbnb.com/rooms/641072234133563797</td>\n",
       "      <td>2.022060e+13</td>\n",
       "      <td>6/4/22</td>\n",
       "      <td>Bright East Village 1BR w/ W/D, on prime corne...</td>\n",
       "      <td>Show up and start living from day one in Downt...</td>\n",
       "      <td>This rental is located in NYC’s East Village. ...</td>\n",
       "      <td>https://a0.muscache.com/pictures/prohost-api/H...</td>\n",
       "      <td>107434423</td>\n",
       "      <td>https://www.airbnb.com/users/show/107434423</td>\n",
       "      <td>...</td>\n",
       "      <td>NaN</td>\n",
       "      <td>NaN</td>\n",
       "      <td>NaN</td>\n",
       "      <td>t</td>\n",
       "      <td>391</td>\n",
       "      <td>391</td>\n",
       "      <td>0</td>\n",
       "      <td>0</td>\n",
       "      <td>NaN</td>\n",
       "      <td>New York City</td>\n",
       "    </tr>\n",
       "    <tr>\n",
       "      <th>37409</th>\n",
       "      <td>6.412410e+17</td>\n",
       "      <td>https://www.airbnb.com/rooms/641241352138040023</td>\n",
       "      <td>2.022060e+13</td>\n",
       "      <td>6/4/22</td>\n",
       "      <td>Rest, Relax &amp; Recharge! Club Wyndham Midtown 4...</td>\n",
       "      <td>With a majestic location from which to experie...</td>\n",
       "      <td>NaN</td>\n",
       "      <td>https://a0.muscache.com/pictures/prohost-api/H...</td>\n",
       "      <td>355450429</td>\n",
       "      <td>https://www.airbnb.com/users/show/355450429</td>\n",
       "      <td>...</td>\n",
       "      <td>NaN</td>\n",
       "      <td>NaN</td>\n",
       "      <td>NaN</td>\n",
       "      <td>f</td>\n",
       "      <td>4</td>\n",
       "      <td>4</td>\n",
       "      <td>0</td>\n",
       "      <td>0</td>\n",
       "      <td>NaN</td>\n",
       "      <td>New York City</td>\n",
       "    </tr>\n",
       "  </tbody>\n",
       "</table>\n",
       "<p>5 rows × 75 columns</p>\n",
       "</div>"
      ],
      "text/plain": [
       "                 id                                      listing_url  \\\n",
       "37405  6.406120e+17  https://www.airbnb.com/rooms/640612171111039003   \n",
       "37406  6.406300e+17  https://www.airbnb.com/rooms/640629990855220048   \n",
       "37407  6.406580e+17  https://www.airbnb.com/rooms/640658348674867448   \n",
       "37408  6.410720e+17  https://www.airbnb.com/rooms/641072234133563797   \n",
       "37409  6.412410e+17  https://www.airbnb.com/rooms/641241352138040023   \n",
       "\n",
       "          scrape_id last_scraped  \\\n",
       "37405  2.022060e+13       6/4/22   \n",
       "37406  2.022060e+13       6/4/22   \n",
       "37407  2.022060e+13       6/4/22   \n",
       "37408  2.022060e+13       6/4/22   \n",
       "37409  2.022060e+13       6/4/22   \n",
       "\n",
       "                                                    name  \\\n",
       "37405               2nd Floor near Park and Ferry to NYC   \n",
       "37406  Empire House by Rove | Modern Williamsburg 3 B...   \n",
       "37407    Private room with Shared bath on Union Square 5   \n",
       "37408  Bright East Village 1BR w/ W/D, on prime corne...   \n",
       "37409  Rest, Relax & Recharge! Club Wyndham Midtown 4...   \n",
       "\n",
       "                                             description  \\\n",
       "37405                                                NaN   \n",
       "37406  **New photos of new bedding arrangements and h...   \n",
       "37407  Thank you for your interest.<br />Who do you r...   \n",
       "37408  Show up and start living from day one in Downt...   \n",
       "37409  With a majestic location from which to experie...   \n",
       "\n",
       "                                   neighborhood_overview  \\\n",
       "37405                                                NaN   \n",
       "37406                                                NaN   \n",
       "37407                                                NaN   \n",
       "37408  This rental is located in NYC’s East Village. ...   \n",
       "37409                                                NaN   \n",
       "\n",
       "                                             picture_url    host_id  \\\n",
       "37405  https://a0.muscache.com/pictures/255e6d38-ce3f...   32162495   \n",
       "37406  https://a0.muscache.com/pictures/prohost-api/H...  404940500   \n",
       "37407  https://a0.muscache.com/pictures/prohost-api/H...  408979935   \n",
       "37408  https://a0.muscache.com/pictures/prohost-api/H...  107434423   \n",
       "37409  https://a0.muscache.com/pictures/prohost-api/H...  355450429   \n",
       "\n",
       "                                          host_url  ...  \\\n",
       "37405   https://www.airbnb.com/users/show/32162495  ...   \n",
       "37406  https://www.airbnb.com/users/show/404940500  ...   \n",
       "37407  https://www.airbnb.com/users/show/408979935  ...   \n",
       "37408  https://www.airbnb.com/users/show/107434423  ...   \n",
       "37409  https://www.airbnb.com/users/show/355450429  ...   \n",
       "\n",
       "      review_scores_location review_scores_value license instant_bookable  \\\n",
       "37405                    NaN                 NaN     NaN                f   \n",
       "37406                    NaN                 NaN     NaN                f   \n",
       "37407                    NaN                 NaN     NaN                t   \n",
       "37408                    NaN                 NaN     NaN                t   \n",
       "37409                    NaN                 NaN     NaN                f   \n",
       "\n",
       "      calculated_host_listings_count  \\\n",
       "37405                              3   \n",
       "37406                              5   \n",
       "37407                             16   \n",
       "37408                            391   \n",
       "37409                              4   \n",
       "\n",
       "      calculated_host_listings_count_entire_homes  \\\n",
       "37405                                           3   \n",
       "37406                                           5   \n",
       "37407                                           0   \n",
       "37408                                         391   \n",
       "37409                                           4   \n",
       "\n",
       "      calculated_host_listings_count_private_rooms  \\\n",
       "37405                                            0   \n",
       "37406                                            0   \n",
       "37407                                           16   \n",
       "37408                                            0   \n",
       "37409                                            0   \n",
       "\n",
       "      calculated_host_listings_count_shared_rooms reviews_per_month  \\\n",
       "37405                                           0               NaN   \n",
       "37406                                           0               NaN   \n",
       "37407                                           0               NaN   \n",
       "37408                                           0               NaN   \n",
       "37409                                           0               NaN   \n",
       "\n",
       "                city  \n",
       "37405  New York City  \n",
       "37406  New York City  \n",
       "37407  New York City  \n",
       "37408  New York City  \n",
       "37409  New York City  \n",
       "\n",
       "[5 rows x 75 columns]"
      ]
     },
     "execution_count": 3,
     "metadata": {},
     "output_type": "execute_result"
    }
   ],
   "source": [
    "# Add city column\n",
    "listings['city'] = 'New York City'\n",
    "listings.tail()"
   ]
  },
  {
   "cell_type": "code",
   "execution_count": 4,
   "id": "84e61ac8",
   "metadata": {
    "scrolled": true
   },
   "outputs": [
    {
     "data": {
      "text/plain": [
       "Index(['id', 'listing_url', 'scrape_id', 'last_scraped', 'name', 'description',\n",
       "       'neighborhood_overview', 'picture_url', 'host_id', 'host_url',\n",
       "       'host_name', 'host_since', 'host_location', 'host_about',\n",
       "       'host_response_time', 'host_response_rate', 'host_acceptance_rate',\n",
       "       'host_is_superhost', 'host_thumbnail_url', 'host_picture_url',\n",
       "       'host_neighbourhood', 'host_listings_count',\n",
       "       'host_total_listings_count', 'host_verifications',\n",
       "       'host_has_profile_pic', 'host_identity_verified', 'neighbourhood',\n",
       "       'neighbourhood_cleansed', 'neighbourhood_group_cleansed', 'latitude',\n",
       "       'longitude', 'property_type', 'room_type', 'accommodates', 'bathrooms',\n",
       "       'bathrooms_text', 'bedrooms', 'beds', 'amenities', 'price',\n",
       "       'minimum_nights', 'maximum_nights', 'minimum_minimum_nights',\n",
       "       'maximum_minimum_nights', 'minimum_maximum_nights',\n",
       "       'maximum_maximum_nights', 'minimum_nights_avg_ntm',\n",
       "       'maximum_nights_avg_ntm', 'calendar_updated', 'has_availability',\n",
       "       'availability_30', 'availability_60', 'availability_90',\n",
       "       'availability_365', 'calendar_last_scraped', 'number_of_reviews',\n",
       "       'number_of_reviews_ltm', 'number_of_reviews_l30d', 'first_review',\n",
       "       'last_review', 'review_scores_rating', 'review_scores_accuracy',\n",
       "       'review_scores_cleanliness', 'review_scores_checkin',\n",
       "       'review_scores_communication', 'review_scores_location',\n",
       "       'review_scores_value', 'license', 'instant_bookable',\n",
       "       'calculated_host_listings_count',\n",
       "       'calculated_host_listings_count_entire_homes',\n",
       "       'calculated_host_listings_count_private_rooms',\n",
       "       'calculated_host_listings_count_shared_rooms', 'reviews_per_month',\n",
       "       'city'],\n",
       "      dtype='object')"
      ]
     },
     "execution_count": 4,
     "metadata": {},
     "output_type": "execute_result"
    }
   ],
   "source": [
    "# See all columns in merged dataset\n",
    "listings.columns"
   ]
  },
  {
   "cell_type": "code",
   "execution_count": 5,
   "id": "a59e689a",
   "metadata": {
    "scrolled": true
   },
   "outputs": [
    {
     "data": {
      "text/plain": [
       "['neighborhood_overview',\n",
       " 'host_about',\n",
       " 'host_response_time',\n",
       " 'host_response_rate',\n",
       " 'host_acceptance_rate',\n",
       " 'host_neighbourhood',\n",
       " 'neighbourhood',\n",
       " 'bathrooms',\n",
       " 'bedrooms',\n",
       " 'calendar_updated',\n",
       " 'first_review',\n",
       " 'last_review',\n",
       " 'review_scores_rating',\n",
       " 'review_scores_accuracy',\n",
       " 'review_scores_cleanliness',\n",
       " 'review_scores_checkin',\n",
       " 'review_scores_communication',\n",
       " 'review_scores_location',\n",
       " 'review_scores_value',\n",
       " 'license',\n",
       " 'reviews_per_month']"
      ]
     },
     "execution_count": 5,
     "metadata": {},
     "output_type": "execute_result"
    }
   ],
   "source": [
    "# Identify columns with null values exceeding 1500\n",
    "null_check = listings.isna().sum()\n",
    "remove_column_indices = []\n",
    "remove_columns = []\n",
    "[remove_columns.append(null_check.index[i]) for i in range(len(null_check)) if null_check[i] > 1500]\n",
    "remove_columns"
   ]
  },
  {
   "cell_type": "code",
   "execution_count": 6,
   "id": "adc0aba7",
   "metadata": {},
   "outputs": [
    {
     "data": {
      "text/plain": [
       "calendar_updated               37410\n",
       "bathrooms                      37410\n",
       "license                        37406\n",
       "host_about                     16356\n",
       "neighborhood_overview          14980\n",
       "neighbourhood                  14979\n",
       "host_response_rate             13210\n",
       "host_response_time             13210\n",
       "host_acceptance_rate           11732\n",
       "review_scores_value             8435\n",
       "review_scores_location          8435\n",
       "review_scores_checkin           8432\n",
       "review_scores_accuracy          8428\n",
       "review_scores_communication     8423\n",
       "review_scores_cleanliness       8418\n",
       "review_scores_rating            7949\n",
       "last_review                     7949\n",
       "first_review                    7949\n",
       "reviews_per_month               7949\n",
       "host_neighbourhood              7542\n",
       "dtype: int64"
      ]
     },
     "execution_count": 6,
     "metadata": {},
     "output_type": "execute_result"
    }
   ],
   "source": [
    "# Check columns with most null values\n",
    "null_check.sort_values(ascending=False).head(20)"
   ]
  },
  {
   "cell_type": "code",
   "execution_count": 7,
   "id": "9110a14f",
   "metadata": {},
   "outputs": [],
   "source": [
    "# Drop all rows with null values\n",
    "# listings.dropna(inplace=True)"
   ]
  },
  {
   "cell_type": "code",
   "execution_count": 8,
   "id": "4162dbf3",
   "metadata": {},
   "outputs": [
    {
     "data": {
      "text/html": [
       "<div>\n",
       "<style scoped>\n",
       "    .dataframe tbody tr th:only-of-type {\n",
       "        vertical-align: middle;\n",
       "    }\n",
       "\n",
       "    .dataframe tbody tr th {\n",
       "        vertical-align: top;\n",
       "    }\n",
       "\n",
       "    .dataframe thead th {\n",
       "        text-align: right;\n",
       "    }\n",
       "</style>\n",
       "<table border=\"1\" class=\"dataframe\">\n",
       "  <thead>\n",
       "    <tr style=\"text-align: right;\">\n",
       "      <th></th>\n",
       "      <th>id</th>\n",
       "      <th>listing_url</th>\n",
       "      <th>scrape_id</th>\n",
       "      <th>last_scraped</th>\n",
       "      <th>name</th>\n",
       "      <th>description</th>\n",
       "      <th>neighborhood_overview</th>\n",
       "      <th>picture_url</th>\n",
       "      <th>host_id</th>\n",
       "      <th>host_url</th>\n",
       "      <th>...</th>\n",
       "      <th>review_scores_location</th>\n",
       "      <th>review_scores_value</th>\n",
       "      <th>license</th>\n",
       "      <th>instant_bookable</th>\n",
       "      <th>calculated_host_listings_count</th>\n",
       "      <th>calculated_host_listings_count_entire_homes</th>\n",
       "      <th>calculated_host_listings_count_private_rooms</th>\n",
       "      <th>calculated_host_listings_count_shared_rooms</th>\n",
       "      <th>reviews_per_month</th>\n",
       "      <th>city</th>\n",
       "    </tr>\n",
       "  </thead>\n",
       "  <tbody>\n",
       "    <tr>\n",
       "      <th>0</th>\n",
       "      <td>2595.0</td>\n",
       "      <td>https://www.airbnb.com/rooms/2595</td>\n",
       "      <td>2.022060e+13</td>\n",
       "      <td>6/4/22</td>\n",
       "      <td>Skylit Midtown Castle</td>\n",
       "      <td>Beautiful, spacious skylit studio in the heart...</td>\n",
       "      <td>Centrally located in the heart of Manhattan ju...</td>\n",
       "      <td>https://a0.muscache.com/pictures/f0813a11-40b2...</td>\n",
       "      <td>2845</td>\n",
       "      <td>https://www.airbnb.com/users/show/2845</td>\n",
       "      <td>...</td>\n",
       "      <td>4.86</td>\n",
       "      <td>4.41</td>\n",
       "      <td>NaN</td>\n",
       "      <td>0</td>\n",
       "      <td>3</td>\n",
       "      <td>3</td>\n",
       "      <td>0</td>\n",
       "      <td>0</td>\n",
       "      <td>0.31</td>\n",
       "      <td>New York City</td>\n",
       "    </tr>\n",
       "    <tr>\n",
       "      <th>1</th>\n",
       "      <td>5121.0</td>\n",
       "      <td>https://www.airbnb.com/rooms/5121</td>\n",
       "      <td>2.022060e+13</td>\n",
       "      <td>6/4/22</td>\n",
       "      <td>BlissArtsSpace!</td>\n",
       "      <td>One room available for rent in a 2 bedroom apt...</td>\n",
       "      <td>NaN</td>\n",
       "      <td>https://a0.muscache.com/pictures/2090980c-b68e...</td>\n",
       "      <td>7356</td>\n",
       "      <td>https://www.airbnb.com/users/show/7356</td>\n",
       "      <td>...</td>\n",
       "      <td>4.47</td>\n",
       "      <td>4.52</td>\n",
       "      <td>NaN</td>\n",
       "      <td>0</td>\n",
       "      <td>2</td>\n",
       "      <td>0</td>\n",
       "      <td>2</td>\n",
       "      <td>0</td>\n",
       "      <td>0.32</td>\n",
       "      <td>New York City</td>\n",
       "    </tr>\n",
       "    <tr>\n",
       "      <th>2</th>\n",
       "      <td>5136.0</td>\n",
       "      <td>https://www.airbnb.com/rooms/5136</td>\n",
       "      <td>2.022060e+13</td>\n",
       "      <td>6/4/22</td>\n",
       "      <td>Spacious Brooklyn Duplex, Patio + Garden</td>\n",
       "      <td>We welcome you to stay in our lovely 2 br dupl...</td>\n",
       "      <td>NaN</td>\n",
       "      <td>https://a0.muscache.com/pictures/miso/Hosting-...</td>\n",
       "      <td>7378</td>\n",
       "      <td>https://www.airbnb.com/users/show/7378</td>\n",
       "      <td>...</td>\n",
       "      <td>4.50</td>\n",
       "      <td>5.00</td>\n",
       "      <td>NaN</td>\n",
       "      <td>0</td>\n",
       "      <td>1</td>\n",
       "      <td>1</td>\n",
       "      <td>0</td>\n",
       "      <td>0</td>\n",
       "      <td>0.02</td>\n",
       "      <td>New York City</td>\n",
       "    </tr>\n",
       "    <tr>\n",
       "      <th>3</th>\n",
       "      <td>5178.0</td>\n",
       "      <td>https://www.airbnb.com/rooms/5178</td>\n",
       "      <td>2.022060e+13</td>\n",
       "      <td>6/4/22</td>\n",
       "      <td>Large Furnished Room Near B'way</td>\n",
       "      <td>Please don’t expect the luxury here just a bas...</td>\n",
       "      <td>Theater district, many restaurants around here.</td>\n",
       "      <td>https://a0.muscache.com/pictures/12065/f070997...</td>\n",
       "      <td>8967</td>\n",
       "      <td>https://www.airbnb.com/users/show/8967</td>\n",
       "      <td>...</td>\n",
       "      <td>4.87</td>\n",
       "      <td>4.39</td>\n",
       "      <td>NaN</td>\n",
       "      <td>0</td>\n",
       "      <td>1</td>\n",
       "      <td>0</td>\n",
       "      <td>1</td>\n",
       "      <td>0</td>\n",
       "      <td>3.37</td>\n",
       "      <td>New York City</td>\n",
       "    </tr>\n",
       "    <tr>\n",
       "      <th>4</th>\n",
       "      <td>5203.0</td>\n",
       "      <td>https://www.airbnb.com/rooms/5203</td>\n",
       "      <td>2.022060e+13</td>\n",
       "      <td>6/3/22</td>\n",
       "      <td>Cozy Clean Guest Room - Family Apt</td>\n",
       "      <td>Our best guests are seeking a safe, clean, spa...</td>\n",
       "      <td>Our neighborhood is full of restaurants and ca...</td>\n",
       "      <td>https://a0.muscache.com/pictures/103776/b37157...</td>\n",
       "      <td>7490</td>\n",
       "      <td>https://www.airbnb.com/users/show/7490</td>\n",
       "      <td>...</td>\n",
       "      <td>4.94</td>\n",
       "      <td>4.92</td>\n",
       "      <td>NaN</td>\n",
       "      <td>0</td>\n",
       "      <td>1</td>\n",
       "      <td>0</td>\n",
       "      <td>1</td>\n",
       "      <td>0</td>\n",
       "      <td>0.76</td>\n",
       "      <td>New York City</td>\n",
       "    </tr>\n",
       "  </tbody>\n",
       "</table>\n",
       "<p>5 rows × 75 columns</p>\n",
       "</div>"
      ],
      "text/plain": [
       "       id                        listing_url     scrape_id last_scraped  \\\n",
       "0  2595.0  https://www.airbnb.com/rooms/2595  2.022060e+13       6/4/22   \n",
       "1  5121.0  https://www.airbnb.com/rooms/5121  2.022060e+13       6/4/22   \n",
       "2  5136.0  https://www.airbnb.com/rooms/5136  2.022060e+13       6/4/22   \n",
       "3  5178.0  https://www.airbnb.com/rooms/5178  2.022060e+13       6/4/22   \n",
       "4  5203.0  https://www.airbnb.com/rooms/5203  2.022060e+13       6/3/22   \n",
       "\n",
       "                                       name  \\\n",
       "0                     Skylit Midtown Castle   \n",
       "1                           BlissArtsSpace!   \n",
       "2  Spacious Brooklyn Duplex, Patio + Garden   \n",
       "3          Large Furnished Room Near B'way　   \n",
       "4        Cozy Clean Guest Room - Family Apt   \n",
       "\n",
       "                                         description  \\\n",
       "0  Beautiful, spacious skylit studio in the heart...   \n",
       "1  One room available for rent in a 2 bedroom apt...   \n",
       "2  We welcome you to stay in our lovely 2 br dupl...   \n",
       "3  Please don’t expect the luxury here just a bas...   \n",
       "4  Our best guests are seeking a safe, clean, spa...   \n",
       "\n",
       "                               neighborhood_overview  \\\n",
       "0  Centrally located in the heart of Manhattan ju...   \n",
       "1                                                NaN   \n",
       "2                                                NaN   \n",
       "3    Theater district, many restaurants around here.   \n",
       "4  Our neighborhood is full of restaurants and ca...   \n",
       "\n",
       "                                         picture_url  host_id  \\\n",
       "0  https://a0.muscache.com/pictures/f0813a11-40b2...     2845   \n",
       "1  https://a0.muscache.com/pictures/2090980c-b68e...     7356   \n",
       "2  https://a0.muscache.com/pictures/miso/Hosting-...     7378   \n",
       "3  https://a0.muscache.com/pictures/12065/f070997...     8967   \n",
       "4  https://a0.muscache.com/pictures/103776/b37157...     7490   \n",
       "\n",
       "                                 host_url  ... review_scores_location  \\\n",
       "0  https://www.airbnb.com/users/show/2845  ...                   4.86   \n",
       "1  https://www.airbnb.com/users/show/7356  ...                   4.47   \n",
       "2  https://www.airbnb.com/users/show/7378  ...                   4.50   \n",
       "3  https://www.airbnb.com/users/show/8967  ...                   4.87   \n",
       "4  https://www.airbnb.com/users/show/7490  ...                   4.94   \n",
       "\n",
       "  review_scores_value license instant_bookable calculated_host_listings_count  \\\n",
       "0                4.41     NaN                0                              3   \n",
       "1                4.52     NaN                0                              2   \n",
       "2                5.00     NaN                0                              1   \n",
       "3                4.39     NaN                0                              1   \n",
       "4                4.92     NaN                0                              1   \n",
       "\n",
       "  calculated_host_listings_count_entire_homes  \\\n",
       "0                                           3   \n",
       "1                                           0   \n",
       "2                                           1   \n",
       "3                                           0   \n",
       "4                                           0   \n",
       "\n",
       "  calculated_host_listings_count_private_rooms  \\\n",
       "0                                            0   \n",
       "1                                            2   \n",
       "2                                            0   \n",
       "3                                            1   \n",
       "4                                            1   \n",
       "\n",
       "   calculated_host_listings_count_shared_rooms reviews_per_month  \\\n",
       "0                                            0              0.31   \n",
       "1                                            0              0.32   \n",
       "2                                            0              0.02   \n",
       "3                                            0              3.37   \n",
       "4                                            0              0.76   \n",
       "\n",
       "            city  \n",
       "0  New York City  \n",
       "1  New York City  \n",
       "2  New York City  \n",
       "3  New York City  \n",
       "4  New York City  \n",
       "\n",
       "[5 rows x 75 columns]"
      ]
     },
     "execution_count": 8,
     "metadata": {},
     "output_type": "execute_result"
    }
   ],
   "source": [
    "# Convert t/f to 1/0\n",
    "listings['host_is_superhost'] = listings['host_is_superhost']\\\n",
    "                                .apply(lambda value: 1 if value == 't' else 0)\n",
    "\n",
    "listings['instant_bookable'] = listings['instant_bookable']\\\n",
    "                                .apply(lambda value: 1 if value == 't' else 0)\n",
    "listings.head()"
   ]
  },
  {
   "cell_type": "code",
   "execution_count": 9,
   "id": "4bb6b8b0",
   "metadata": {},
   "outputs": [
    {
     "name": "stderr",
     "output_type": "stream",
     "text": [
      "C:\\Users\\JYESU_~1\\AppData\\Local\\Temp/ipykernel_5372/1379668244.py:2: FutureWarning: The default value of regex will change from True to False in a future version. In addition, single character regular expressions will *not* be treated as literal strings when regex=True.\n",
      "  listings['price_int'] = listings['price'].str.replace('$', '')\n"
     ]
    },
    {
     "data": {
      "text/plain": [
       "dtype('float64')"
      ]
     },
     "execution_count": 9,
     "metadata": {},
     "output_type": "execute_result"
    }
   ],
   "source": [
    "# Convert price variable to float\n",
    "listings['price_int'] = listings['price'].str.replace('$', '')\n",
    "listings['price_int'] = listings['price_int'].str.replace(',', '')\n",
    "listings['price_int'] = listings['price_int'].astype(float)\n",
    "listings['price_int'].dtype"
   ]
  },
  {
   "cell_type": "code",
   "execution_count": 10,
   "id": "9af3a18d",
   "metadata": {},
   "outputs": [
    {
     "data": {
      "text/plain": [
       "dtype('float64')"
      ]
     },
     "execution_count": 10,
     "metadata": {},
     "output_type": "execute_result"
    }
   ],
   "source": [
    "# Convert host acceptance rate from string to float\n",
    "listings['host_acceptance_rate'] = listings['host_acceptance_rate']\\\n",
    "                                .str.replace('%', '').astype(float)\n",
    "\n",
    "listings['host_acceptance_rate'].dtype"
   ]
  },
  {
   "cell_type": "code",
   "execution_count": 11,
   "id": "f9c5e670",
   "metadata": {},
   "outputs": [],
   "source": [
    "# Distinguish between long-term and short-term rentals\n",
    "listings.loc[listings['minimum_nights'] < 30, 'short-term'] = 1\n",
    "listings.loc[listings['minimum_nights'] >= 30, 'short-term'] = 0"
   ]
  },
  {
   "cell_type": "code",
   "execution_count": 12,
   "id": "f8446e66",
   "metadata": {
    "scrolled": true
   },
   "outputs": [
    {
     "data": {
      "text/plain": [
       "Index(['id', 'listing_url', 'scrape_id', 'last_scraped', 'name', 'description',\n",
       "       'neighborhood_overview', 'picture_url', 'host_id', 'host_url',\n",
       "       'host_name', 'host_since', 'host_location', 'host_about',\n",
       "       'host_response_time', 'host_response_rate', 'host_acceptance_rate',\n",
       "       'host_is_superhost', 'host_thumbnail_url', 'host_picture_url',\n",
       "       'host_neighbourhood', 'host_listings_count',\n",
       "       'host_total_listings_count', 'host_verifications',\n",
       "       'host_has_profile_pic', 'host_identity_verified', 'neighbourhood',\n",
       "       'neighbourhood_cleansed', 'neighbourhood_group_cleansed', 'latitude',\n",
       "       'longitude', 'property_type', 'room_type', 'accommodates', 'bathrooms',\n",
       "       'bathrooms_text', 'bedrooms', 'beds', 'amenities', 'price',\n",
       "       'minimum_nights', 'maximum_nights', 'minimum_minimum_nights',\n",
       "       'maximum_minimum_nights', 'minimum_maximum_nights',\n",
       "       'maximum_maximum_nights', 'minimum_nights_avg_ntm',\n",
       "       'maximum_nights_avg_ntm', 'calendar_updated', 'has_availability',\n",
       "       'availability_30', 'availability_60', 'availability_90',\n",
       "       'availability_365', 'calendar_last_scraped', 'number_of_reviews',\n",
       "       'number_of_reviews_ltm', 'number_of_reviews_l30d', 'first_review',\n",
       "       'last_review', 'review_scores_rating', 'review_scores_accuracy',\n",
       "       'review_scores_cleanliness', 'review_scores_checkin',\n",
       "       'review_scores_communication', 'review_scores_location',\n",
       "       'review_scores_value', 'license', 'instant_bookable',\n",
       "       'calculated_host_listings_count',\n",
       "       'calculated_host_listings_count_entire_homes',\n",
       "       'calculated_host_listings_count_private_rooms',\n",
       "       'calculated_host_listings_count_shared_rooms', 'reviews_per_month',\n",
       "       'city', 'price_int', 'short-term'],\n",
       "      dtype='object')"
      ]
     },
     "execution_count": 12,
     "metadata": {},
     "output_type": "execute_result"
    }
   ],
   "source": [
    "listings.columns"
   ]
  },
  {
   "cell_type": "code",
   "execution_count": 13,
   "id": "12d38f57",
   "metadata": {},
   "outputs": [],
   "source": [
    "model_data = pd.DataFrame(listings[['host_acceptance_rate',\n",
    "       'host_is_superhost', 'host_listings_count', 'short-term',\n",
    "       'host_total_listings_count', 'host_verifications',\n",
    "       'host_has_profile_pic', 'host_identity_verified',\n",
    "       'neighbourhood_cleansed', 'latitude',\n",
    "       'longitude', 'property_type', 'room_type', 'accommodates',\n",
    "       'bathrooms_text', 'bedrooms', 'beds', 'amenities', 'price',\n",
    "       'minimum_nights', 'maximum_nights', 'minimum_minimum_nights',\n",
    "       'maximum_minimum_nights', 'minimum_maximum_nights',\n",
    "       'maximum_maximum_nights', 'minimum_nights_avg_ntm',\n",
    "       'maximum_nights_avg_ntm', 'number_of_reviews', 'neighbourhood_group_cleansed',\n",
    "       'number_of_reviews_ltm', 'number_of_reviews_l30d', 'review_scores_rating', 'review_scores_accuracy',\n",
    "       'review_scores_cleanliness', 'review_scores_checkin',\n",
    "       'review_scores_communication', 'review_scores_location',\n",
    "       'review_scores_value', 'instant_bookable',\n",
    "       'calculated_host_listings_count',\n",
    "       'calculated_host_listings_count_entire_homes',\n",
    "       'calculated_host_listings_count_private_rooms',\n",
    "       'calculated_host_listings_count_shared_rooms',\n",
    "       'city', 'price_int']])"
   ]
  },
  {
   "cell_type": "code",
   "execution_count": 14,
   "id": "d751584f",
   "metadata": {},
   "outputs": [],
   "source": [
    "# Create bins for the number of reviews that a listing has\n",
    "model_data.loc[model_data['number_of_reviews'] == 0, 'review_count_bin'] = 'No reviews'\n",
    "model_data.loc[(model_data['number_of_reviews'] > 0) \\\n",
    "               & (model_data['number_of_reviews'] < 10), 'review_count_bin'] = 'Less than 10'\n",
    "model_data.loc[(model_data['number_of_reviews'] >= 10) \\\n",
    "               & (model_data['number_of_reviews'] < 50), 'review_count_bin'] = 'Between 10 and 50'\n",
    "model_data.loc[(model_data['number_of_reviews'] >= 50) \\\n",
    "               & (model_data['number_of_reviews'] < 200), 'review_count_bin'] = 'Between 50 and 200'\n",
    "model_data.loc[model_data['number_of_reviews'] >= 200, 'review_count_bin'] = '200 or greater'"
   ]
  },
  {
   "cell_type": "code",
   "execution_count": 15,
   "id": "346c4f5e",
   "metadata": {},
   "outputs": [],
   "source": [
    "# Checks whether listing has A/C or a washer/dryer and adds dummy columns\n",
    "\n",
    "# Initialize empty lists\n",
    "air_conditioning = []\n",
    "washer_dryer = []\n",
    "num_amenities = []\n",
    "\n",
    "# Loops through each listing's amenities to look for air conditioning or washer/dryer\n",
    "listings_amenities = list(model_data['amenities'])\n",
    "for amenities in listings_amenities:\n",
    "    amenities = amenities.replace('\"','')\n",
    "    amenities_list = amenities.split(', ')\n",
    "    air_check = [1 if item == 'Air conditioning' else 0 for item in amenities_list]\n",
    "    air_conditioning.append(max(air_check))\n",
    "    laundry_check = [1 if (item == 'Washer' or item == 'Dryer') else 0 for item in amenities_list]\n",
    "    washer_dryer.append(max(laundry_check))\n",
    "    num_amenities.append(len(amenities_list))\n",
    "\n",
    "# Creates dataframe columns\n",
    "model_data['air_conditioning'] = pd.Series(air_conditioning)\n",
    "model_data['washer_dryer'] = pd.Series(washer_dryer)\n",
    "model_data['num_amenities'] = pd.Series(num_amenities)"
   ]
  },
  {
   "cell_type": "code",
   "execution_count": 16,
   "id": "5533fffa",
   "metadata": {},
   "outputs": [],
   "source": [
    "model_data['bedrooms_per_accomodates'] = model_data['bedrooms'] / model_data['accommodates']"
   ]
  },
  {
   "cell_type": "code",
   "execution_count": 17,
   "id": "91574ba9",
   "metadata": {},
   "outputs": [
    {
     "data": {
      "text/html": [
       "<div>\n",
       "<style scoped>\n",
       "    .dataframe tbody tr th:only-of-type {\n",
       "        vertical-align: middle;\n",
       "    }\n",
       "\n",
       "    .dataframe tbody tr th {\n",
       "        vertical-align: top;\n",
       "    }\n",
       "\n",
       "    .dataframe thead th {\n",
       "        text-align: right;\n",
       "    }\n",
       "</style>\n",
       "<table border=\"1\" class=\"dataframe\">\n",
       "  <thead>\n",
       "    <tr style=\"text-align: right;\">\n",
       "      <th></th>\n",
       "      <th>host_acceptance_rate</th>\n",
       "      <th>host_is_superhost</th>\n",
       "      <th>host_listings_count</th>\n",
       "      <th>short-term</th>\n",
       "      <th>host_total_listings_count</th>\n",
       "      <th>latitude</th>\n",
       "      <th>longitude</th>\n",
       "      <th>accommodates</th>\n",
       "      <th>bedrooms</th>\n",
       "      <th>beds</th>\n",
       "      <th>...</th>\n",
       "      <th>instant_bookable</th>\n",
       "      <th>calculated_host_listings_count</th>\n",
       "      <th>calculated_host_listings_count_entire_homes</th>\n",
       "      <th>calculated_host_listings_count_private_rooms</th>\n",
       "      <th>calculated_host_listings_count_shared_rooms</th>\n",
       "      <th>price_int</th>\n",
       "      <th>air_conditioning</th>\n",
       "      <th>washer_dryer</th>\n",
       "      <th>num_amenities</th>\n",
       "      <th>bedrooms_per_accomodates</th>\n",
       "    </tr>\n",
       "  </thead>\n",
       "  <tbody>\n",
       "    <tr>\n",
       "      <th>count</th>\n",
       "      <td>25678.000000</td>\n",
       "      <td>37410.000000</td>\n",
       "      <td>37344.000000</td>\n",
       "      <td>37410.000000</td>\n",
       "      <td>37344.000000</td>\n",
       "      <td>37410.000000</td>\n",
       "      <td>37410.000000</td>\n",
       "      <td>37410.000000</td>\n",
       "      <td>33756.000000</td>\n",
       "      <td>36509.000000</td>\n",
       "      <td>...</td>\n",
       "      <td>37410.000000</td>\n",
       "      <td>37410.000000</td>\n",
       "      <td>37410.000000</td>\n",
       "      <td>37410.000000</td>\n",
       "      <td>37410.000000</td>\n",
       "      <td>37410.000000</td>\n",
       "      <td>37410.000000</td>\n",
       "      <td>37410.000000</td>\n",
       "      <td>37410.000000</td>\n",
       "      <td>33756.000000</td>\n",
       "    </tr>\n",
       "    <tr>\n",
       "      <th>mean</th>\n",
       "      <td>81.533297</td>\n",
       "      <td>0.183186</td>\n",
       "      <td>63.811509</td>\n",
       "      <td>0.495643</td>\n",
       "      <td>63.811509</td>\n",
       "      <td>40.729308</td>\n",
       "      <td>-73.946171</td>\n",
       "      <td>2.904918</td>\n",
       "      <td>1.354219</td>\n",
       "      <td>1.634720</td>\n",
       "      <td>...</td>\n",
       "      <td>0.267469</td>\n",
       "      <td>15.114782</td>\n",
       "      <td>9.396685</td>\n",
       "      <td>5.600508</td>\n",
       "      <td>0.051270</td>\n",
       "      <td>190.775221</td>\n",
       "      <td>0.762122</td>\n",
       "      <td>0.336300</td>\n",
       "      <td>24.108768</td>\n",
       "      <td>0.549284</td>\n",
       "    </tr>\n",
       "    <tr>\n",
       "      <th>std</th>\n",
       "      <td>26.593832</td>\n",
       "      <td>0.386824</td>\n",
       "      <td>400.332606</td>\n",
       "      <td>0.499988</td>\n",
       "      <td>400.332606</td>\n",
       "      <td>0.058041</td>\n",
       "      <td>0.056701</td>\n",
       "      <td>1.964525</td>\n",
       "      <td>0.734038</td>\n",
       "      <td>1.148007</td>\n",
       "      <td>...</td>\n",
       "      <td>0.442645</td>\n",
       "      <td>50.717311</td>\n",
       "      <td>45.421795</td>\n",
       "      <td>23.806312</td>\n",
       "      <td>0.492768</td>\n",
       "      <td>342.491748</td>\n",
       "      <td>0.425789</td>\n",
       "      <td>0.472449</td>\n",
       "      <td>12.942946</td>\n",
       "      <td>0.280437</td>\n",
       "    </tr>\n",
       "    <tr>\n",
       "      <th>min</th>\n",
       "      <td>0.000000</td>\n",
       "      <td>0.000000</td>\n",
       "      <td>0.000000</td>\n",
       "      <td>0.000000</td>\n",
       "      <td>0.000000</td>\n",
       "      <td>40.504560</td>\n",
       "      <td>-74.269520</td>\n",
       "      <td>0.000000</td>\n",
       "      <td>1.000000</td>\n",
       "      <td>1.000000</td>\n",
       "      <td>...</td>\n",
       "      <td>0.000000</td>\n",
       "      <td>1.000000</td>\n",
       "      <td>0.000000</td>\n",
       "      <td>0.000000</td>\n",
       "      <td>0.000000</td>\n",
       "      <td>0.000000</td>\n",
       "      <td>0.000000</td>\n",
       "      <td>0.000000</td>\n",
       "      <td>1.000000</td>\n",
       "      <td>0.062500</td>\n",
       "    </tr>\n",
       "    <tr>\n",
       "      <th>25%</th>\n",
       "      <td>75.000000</td>\n",
       "      <td>0.000000</td>\n",
       "      <td>1.000000</td>\n",
       "      <td>0.000000</td>\n",
       "      <td>1.000000</td>\n",
       "      <td>40.688260</td>\n",
       "      <td>-73.983518</td>\n",
       "      <td>2.000000</td>\n",
       "      <td>1.000000</td>\n",
       "      <td>1.000000</td>\n",
       "      <td>...</td>\n",
       "      <td>0.000000</td>\n",
       "      <td>1.000000</td>\n",
       "      <td>0.000000</td>\n",
       "      <td>0.000000</td>\n",
       "      <td>0.000000</td>\n",
       "      <td>75.000000</td>\n",
       "      <td>1.000000</td>\n",
       "      <td>0.000000</td>\n",
       "      <td>14.000000</td>\n",
       "      <td>0.400000</td>\n",
       "    </tr>\n",
       "    <tr>\n",
       "      <th>50%</th>\n",
       "      <td>94.000000</td>\n",
       "      <td>0.000000</td>\n",
       "      <td>1.000000</td>\n",
       "      <td>0.000000</td>\n",
       "      <td>1.000000</td>\n",
       "      <td>40.724885</td>\n",
       "      <td>-73.953794</td>\n",
       "      <td>2.000000</td>\n",
       "      <td>1.000000</td>\n",
       "      <td>1.000000</td>\n",
       "      <td>...</td>\n",
       "      <td>0.000000</td>\n",
       "      <td>1.000000</td>\n",
       "      <td>1.000000</td>\n",
       "      <td>0.000000</td>\n",
       "      <td>0.000000</td>\n",
       "      <td>125.000000</td>\n",
       "      <td>1.000000</td>\n",
       "      <td>0.000000</td>\n",
       "      <td>22.000000</td>\n",
       "      <td>0.500000</td>\n",
       "    </tr>\n",
       "    <tr>\n",
       "      <th>75%</th>\n",
       "      <td>100.000000</td>\n",
       "      <td>0.000000</td>\n",
       "      <td>3.000000</td>\n",
       "      <td>1.000000</td>\n",
       "      <td>3.000000</td>\n",
       "      <td>40.763380</td>\n",
       "      <td>-73.926340</td>\n",
       "      <td>4.000000</td>\n",
       "      <td>1.000000</td>\n",
       "      <td>2.000000</td>\n",
       "      <td>...</td>\n",
       "      <td>1.000000</td>\n",
       "      <td>3.000000</td>\n",
       "      <td>1.000000</td>\n",
       "      <td>1.000000</td>\n",
       "      <td>0.000000</td>\n",
       "      <td>203.000000</td>\n",
       "      <td>1.000000</td>\n",
       "      <td>1.000000</td>\n",
       "      <td>32.000000</td>\n",
       "      <td>0.500000</td>\n",
       "    </tr>\n",
       "    <tr>\n",
       "      <th>max</th>\n",
       "      <td>100.000000</td>\n",
       "      <td>1.000000</td>\n",
       "      <td>3404.000000</td>\n",
       "      <td>1.000000</td>\n",
       "      <td>3404.000000</td>\n",
       "      <td>40.928340</td>\n",
       "      <td>-73.693210</td>\n",
       "      <td>16.000000</td>\n",
       "      <td>15.000000</td>\n",
       "      <td>42.000000</td>\n",
       "      <td>...</td>\n",
       "      <td>1.000000</td>\n",
       "      <td>391.000000</td>\n",
       "      <td>391.000000</td>\n",
       "      <td>190.000000</td>\n",
       "      <td>11.000000</td>\n",
       "      <td>12900.000000</td>\n",
       "      <td>1.000000</td>\n",
       "      <td>1.000000</td>\n",
       "      <td>96.000000</td>\n",
       "      <td>6.000000</td>\n",
       "    </tr>\n",
       "  </tbody>\n",
       "</table>\n",
       "<p>8 rows × 38 columns</p>\n",
       "</div>"
      ],
      "text/plain": [
       "       host_acceptance_rate  host_is_superhost  host_listings_count  \\\n",
       "count          25678.000000       37410.000000         37344.000000   \n",
       "mean              81.533297           0.183186            63.811509   \n",
       "std               26.593832           0.386824           400.332606   \n",
       "min                0.000000           0.000000             0.000000   \n",
       "25%               75.000000           0.000000             1.000000   \n",
       "50%               94.000000           0.000000             1.000000   \n",
       "75%              100.000000           0.000000             3.000000   \n",
       "max              100.000000           1.000000          3404.000000   \n",
       "\n",
       "         short-term  host_total_listings_count      latitude     longitude  \\\n",
       "count  37410.000000               37344.000000  37410.000000  37410.000000   \n",
       "mean       0.495643                  63.811509     40.729308    -73.946171   \n",
       "std        0.499988                 400.332606      0.058041      0.056701   \n",
       "min        0.000000                   0.000000     40.504560    -74.269520   \n",
       "25%        0.000000                   1.000000     40.688260    -73.983518   \n",
       "50%        0.000000                   1.000000     40.724885    -73.953794   \n",
       "75%        1.000000                   3.000000     40.763380    -73.926340   \n",
       "max        1.000000                3404.000000     40.928340    -73.693210   \n",
       "\n",
       "       accommodates      bedrooms          beds  ...  instant_bookable  \\\n",
       "count  37410.000000  33756.000000  36509.000000  ...      37410.000000   \n",
       "mean       2.904918      1.354219      1.634720  ...          0.267469   \n",
       "std        1.964525      0.734038      1.148007  ...          0.442645   \n",
       "min        0.000000      1.000000      1.000000  ...          0.000000   \n",
       "25%        2.000000      1.000000      1.000000  ...          0.000000   \n",
       "50%        2.000000      1.000000      1.000000  ...          0.000000   \n",
       "75%        4.000000      1.000000      2.000000  ...          1.000000   \n",
       "max       16.000000     15.000000     42.000000  ...          1.000000   \n",
       "\n",
       "       calculated_host_listings_count  \\\n",
       "count                    37410.000000   \n",
       "mean                        15.114782   \n",
       "std                         50.717311   \n",
       "min                          1.000000   \n",
       "25%                          1.000000   \n",
       "50%                          1.000000   \n",
       "75%                          3.000000   \n",
       "max                        391.000000   \n",
       "\n",
       "       calculated_host_listings_count_entire_homes  \\\n",
       "count                                 37410.000000   \n",
       "mean                                      9.396685   \n",
       "std                                      45.421795   \n",
       "min                                       0.000000   \n",
       "25%                                       0.000000   \n",
       "50%                                       1.000000   \n",
       "75%                                       1.000000   \n",
       "max                                     391.000000   \n",
       "\n",
       "       calculated_host_listings_count_private_rooms  \\\n",
       "count                                  37410.000000   \n",
       "mean                                       5.600508   \n",
       "std                                       23.806312   \n",
       "min                                        0.000000   \n",
       "25%                                        0.000000   \n",
       "50%                                        0.000000   \n",
       "75%                                        1.000000   \n",
       "max                                      190.000000   \n",
       "\n",
       "       calculated_host_listings_count_shared_rooms     price_int  \\\n",
       "count                                 37410.000000  37410.000000   \n",
       "mean                                      0.051270    190.775221   \n",
       "std                                       0.492768    342.491748   \n",
       "min                                       0.000000      0.000000   \n",
       "25%                                       0.000000     75.000000   \n",
       "50%                                       0.000000    125.000000   \n",
       "75%                                       0.000000    203.000000   \n",
       "max                                      11.000000  12900.000000   \n",
       "\n",
       "       air_conditioning  washer_dryer  num_amenities  bedrooms_per_accomodates  \n",
       "count      37410.000000  37410.000000   37410.000000              33756.000000  \n",
       "mean           0.762122      0.336300      24.108768                  0.549284  \n",
       "std            0.425789      0.472449      12.942946                  0.280437  \n",
       "min            0.000000      0.000000       1.000000                  0.062500  \n",
       "25%            1.000000      0.000000      14.000000                  0.400000  \n",
       "50%            1.000000      0.000000      22.000000                  0.500000  \n",
       "75%            1.000000      1.000000      32.000000                  0.500000  \n",
       "max            1.000000      1.000000      96.000000                  6.000000  \n",
       "\n",
       "[8 rows x 38 columns]"
      ]
     },
     "execution_count": 17,
     "metadata": {},
     "output_type": "execute_result"
    }
   ],
   "source": [
    "# Summarize model data\n",
    "# model_data.dropna(inplace=True)\n",
    "model_data.describe()"
   ]
  },
  {
   "cell_type": "code",
   "execution_count": 18,
   "id": "aa31fe6e",
   "metadata": {},
   "outputs": [],
   "source": [
    "# listings.to_csv('Data/Consolidated_Data.csv')"
   ]
  },
  {
   "cell_type": "markdown",
   "id": "d8458db2",
   "metadata": {},
   "source": [
    "### Data Investigation and Outlier Identification"
   ]
  },
  {
   "cell_type": "code",
   "execution_count": 19,
   "id": "defa5b8c",
   "metadata": {
    "scrolled": true
   },
   "outputs": [
    {
     "data": {
      "text/html": [
       "<div>\n",
       "<style scoped>\n",
       "    .dataframe tbody tr th:only-of-type {\n",
       "        vertical-align: middle;\n",
       "    }\n",
       "\n",
       "    .dataframe tbody tr th {\n",
       "        vertical-align: top;\n",
       "    }\n",
       "\n",
       "    .dataframe thead th {\n",
       "        text-align: right;\n",
       "    }\n",
       "</style>\n",
       "<table border=\"1\" class=\"dataframe\">\n",
       "  <thead>\n",
       "    <tr style=\"text-align: right;\">\n",
       "      <th></th>\n",
       "      <th>mean</th>\n",
       "      <th>count</th>\n",
       "    </tr>\n",
       "    <tr>\n",
       "      <th>neighbourhood_cleansed</th>\n",
       "      <th></th>\n",
       "      <th></th>\n",
       "    </tr>\n",
       "  </thead>\n",
       "  <tbody>\n",
       "    <tr>\n",
       "      <th>Rossville</th>\n",
       "      <td>75.000000</td>\n",
       "      <td>1</td>\n",
       "    </tr>\n",
       "    <tr>\n",
       "      <th>South Beach</th>\n",
       "      <td>95.000000</td>\n",
       "      <td>1</td>\n",
       "    </tr>\n",
       "    <tr>\n",
       "      <th>Westerleigh</th>\n",
       "      <td>94.000000</td>\n",
       "      <td>1</td>\n",
       "    </tr>\n",
       "    <tr>\n",
       "      <th>Bloomfield</th>\n",
       "      <td>175.000000</td>\n",
       "      <td>1</td>\n",
       "    </tr>\n",
       "    <tr>\n",
       "      <th>Pelham Islands</th>\n",
       "      <td>250.000000</td>\n",
       "      <td>1</td>\n",
       "    </tr>\n",
       "    <tr>\n",
       "      <th>Willowbrook</th>\n",
       "      <td>309.000000</td>\n",
       "      <td>1</td>\n",
       "    </tr>\n",
       "    <tr>\n",
       "      <th>Fort Wadsworth</th>\n",
       "      <td>700.000000</td>\n",
       "      <td>1</td>\n",
       "    </tr>\n",
       "    <tr>\n",
       "      <th>Woodrow</th>\n",
       "      <td>99.000000</td>\n",
       "      <td>1</td>\n",
       "    </tr>\n",
       "    <tr>\n",
       "      <th>LaGuardia Airport</th>\n",
       "      <td>188.000000</td>\n",
       "      <td>1</td>\n",
       "    </tr>\n",
       "    <tr>\n",
       "      <th>Bull's Head</th>\n",
       "      <td>60.000000</td>\n",
       "      <td>1</td>\n",
       "    </tr>\n",
       "    <tr>\n",
       "      <th>New Dorp</th>\n",
       "      <td>40.000000</td>\n",
       "      <td>1</td>\n",
       "    </tr>\n",
       "    <tr>\n",
       "      <th>Ferry Point Park</th>\n",
       "      <td>187.500000</td>\n",
       "      <td>2</td>\n",
       "    </tr>\n",
       "    <tr>\n",
       "      <th>Holliswood</th>\n",
       "      <td>89.500000</td>\n",
       "      <td>2</td>\n",
       "    </tr>\n",
       "    <tr>\n",
       "      <th>Lighthouse Hill</th>\n",
       "      <td>163.500000</td>\n",
       "      <td>2</td>\n",
       "    </tr>\n",
       "    <tr>\n",
       "      <th>Broad Channel</th>\n",
       "      <td>356.000000</td>\n",
       "      <td>2</td>\n",
       "    </tr>\n",
       "    <tr>\n",
       "      <th>Chelsea, Staten Island</th>\n",
       "      <td>82.000000</td>\n",
       "      <td>2</td>\n",
       "    </tr>\n",
       "    <tr>\n",
       "      <th>Crotona Park</th>\n",
       "      <td>98.000000</td>\n",
       "      <td>2</td>\n",
       "    </tr>\n",
       "    <tr>\n",
       "      <th>New Springville</th>\n",
       "      <td>171.333333</td>\n",
       "      <td>3</td>\n",
       "    </tr>\n",
       "    <tr>\n",
       "      <th>Arden Heights</th>\n",
       "      <td>98.000000</td>\n",
       "      <td>3</td>\n",
       "    </tr>\n",
       "    <tr>\n",
       "      <th>Richmondtown</th>\n",
       "      <td>114.000000</td>\n",
       "      <td>3</td>\n",
       "    </tr>\n",
       "  </tbody>\n",
       "</table>\n",
       "</div>"
      ],
      "text/plain": [
       "                              mean  count\n",
       "neighbourhood_cleansed                   \n",
       "Rossville                75.000000      1\n",
       "South Beach              95.000000      1\n",
       "Westerleigh              94.000000      1\n",
       "Bloomfield              175.000000      1\n",
       "Pelham Islands          250.000000      1\n",
       "Willowbrook             309.000000      1\n",
       "Fort Wadsworth          700.000000      1\n",
       "Woodrow                  99.000000      1\n",
       "LaGuardia Airport       188.000000      1\n",
       "Bull's Head              60.000000      1\n",
       "New Dorp                 40.000000      1\n",
       "Ferry Point Park        187.500000      2\n",
       "Holliswood               89.500000      2\n",
       "Lighthouse Hill         163.500000      2\n",
       "Broad Channel           356.000000      2\n",
       "Chelsea, Staten Island   82.000000      2\n",
       "Crotona Park             98.000000      2\n",
       "New Springville         171.333333      3\n",
       "Arden Heights            98.000000      3\n",
       "Richmondtown            114.000000      3"
      ]
     },
     "execution_count": 19,
     "metadata": {},
     "output_type": "execute_result"
    }
   ],
   "source": [
    "# Check average price and count of listings by neighborhood\n",
    "avg_price_by_neighborhood = listings.groupby(by=['neighbourhood_cleansed'])['price_int']\\\n",
    "                    .agg(['mean','count'])\n",
    "avg_price_by_neighborhood = pd.DataFrame(avg_price_by_neighborhood)\n",
    "avg_price_by_neighborhood.sort_values(['count'],ascending=True).head(20)"
   ]
  },
  {
   "cell_type": "code",
   "execution_count": 20,
   "id": "68a056d5",
   "metadata": {},
   "outputs": [],
   "source": [
    "# Find neighborhoods with greater than 5 listings\n",
    "neighborhoods_retain = avg_price_by_neighborhood.loc[avg_price_by_neighborhood['count'] > 5]"
   ]
  },
  {
   "cell_type": "code",
   "execution_count": 21,
   "id": "b8588772",
   "metadata": {},
   "outputs": [
    {
     "data": {
      "text/html": [
       "<div>\n",
       "<style scoped>\n",
       "    .dataframe tbody tr th:only-of-type {\n",
       "        vertical-align: middle;\n",
       "    }\n",
       "\n",
       "    .dataframe tbody tr th {\n",
       "        vertical-align: top;\n",
       "    }\n",
       "\n",
       "    .dataframe thead th {\n",
       "        text-align: right;\n",
       "    }\n",
       "</style>\n",
       "<table border=\"1\" class=\"dataframe\">\n",
       "  <thead>\n",
       "    <tr style=\"text-align: right;\">\n",
       "      <th></th>\n",
       "      <th>mean</th>\n",
       "      <th>count</th>\n",
       "    </tr>\n",
       "    <tr>\n",
       "      <th>review_count_bin</th>\n",
       "      <th></th>\n",
       "      <th></th>\n",
       "    </tr>\n",
       "  </thead>\n",
       "  <tbody>\n",
       "    <tr>\n",
       "      <th>200 or greater</th>\n",
       "      <td>150.970552</td>\n",
       "      <td>815</td>\n",
       "    </tr>\n",
       "    <tr>\n",
       "      <th>Between 10 and 50</th>\n",
       "      <td>179.674027</td>\n",
       "      <td>9375</td>\n",
       "    </tr>\n",
       "    <tr>\n",
       "      <th>Between 50 and 200</th>\n",
       "      <td>166.186503</td>\n",
       "      <td>4890</td>\n",
       "    </tr>\n",
       "    <tr>\n",
       "      <th>Less than 10</th>\n",
       "      <td>177.938600</td>\n",
       "      <td>14381</td>\n",
       "    </tr>\n",
       "    <tr>\n",
       "      <th>No reviews</th>\n",
       "      <td>246.298780</td>\n",
       "      <td>7949</td>\n",
       "    </tr>\n",
       "  </tbody>\n",
       "</table>\n",
       "</div>"
      ],
      "text/plain": [
       "                          mean  count\n",
       "review_count_bin                     \n",
       "200 or greater      150.970552    815\n",
       "Between 10 and 50   179.674027   9375\n",
       "Between 50 and 200  166.186503   4890\n",
       "Less than 10        177.938600  14381\n",
       "No reviews          246.298780   7949"
      ]
     },
     "execution_count": 21,
     "metadata": {},
     "output_type": "execute_result"
    }
   ],
   "source": [
    "# Check distribution of number of reviews\n",
    "model_data.groupby(by=['review_count_bin'])['price_int']\\\n",
    "                    .agg(['mean','count'])"
   ]
  },
  {
   "cell_type": "code",
   "execution_count": 22,
   "id": "18c7268b",
   "metadata": {},
   "outputs": [
    {
     "data": {
      "image/png": "[encoded data removed]",
      "text/plain": [
       "<Figure size 432x288 with 1 Axes>"
      ]
     },
     "metadata": {
      "needs_background": "light"
     },
     "output_type": "display_data"
    }
   ],
   "source": [
    "# Assemble boxplot data for plotting prices per burrough\n",
    "burroughs = list(listings['neighbourhood_group_cleansed'].unique())\n",
    "\n",
    "boxplot_data = []\n",
    "for burrough in burroughs:\n",
    "#     burrough_data = listings.loc[listings['neighbourhood_group_cleansed'] == burrough]\n",
    "    burrough_data = model_data.loc[model_data['neighbourhood_group_cleansed'] == burrough]\n",
    "    boxplot_data.append(burrough_data['price_int'])\n",
    "    \n",
    "# Price by burrough\n",
    "plt.boxplot(boxplot_data,labels=burroughs);"
   ]
  },
  {
   "cell_type": "code",
   "execution_count": 23,
   "id": "bab5f52a",
   "metadata": {},
   "outputs": [],
   "source": [
    "# Determine max price by burrough and calculate 50% of max price\n",
    "max_price_by_burrough = pd.DataFrame(listings.groupby(by='neighbourhood_group_cleansed',\n",
    "                                                     as_index = False)\n",
    "                                     ['price_int'].max())\n",
    "max_price_by_burrough['price_cutoff'] = max_price_by_burrough['price_int'] / 2\n",
    "max_price_by_burrough.rename(columns={'price_int' : 'max_burrough_price'},inplace=True)"
   ]
  },
  {
   "cell_type": "code",
   "execution_count": 24,
   "id": "7bb65db8",
   "metadata": {
    "scrolled": true
   },
   "outputs": [
    {
     "data": {
      "text/plain": [
       "['Barn',\n",
       " 'Castle',\n",
       " 'Cave',\n",
       " 'Entire bed and breakfast',\n",
       " 'Lighthouse',\n",
       " 'Private room in barn',\n",
       " 'Private room in boat',\n",
       " 'Private room in camper/rv',\n",
       " 'Private room in cottage',\n",
       " 'Private room in dorm',\n",
       " 'Private room in farm stay',\n",
       " 'Private room in floor',\n",
       " 'Private room in in-law',\n",
       " 'Private room in lighthouse',\n",
       " 'Private room in minsu',\n",
       " 'Private room in ranch',\n",
       " 'Private room in religious building',\n",
       " 'Private room in tent',\n",
       " 'Private room in tiny home',\n",
       " 'Private room in train',\n",
       " 'Room in bed and breakfast',\n",
       " 'Room in resort',\n",
       " 'Shared room',\n",
       " 'Shared room in bed and breakfast',\n",
       " 'Shared room in bungalow',\n",
       " 'Shared room in floor',\n",
       " 'Shared room in guest suite',\n",
       " 'Shared room in guesthouse',\n",
       " 'Shared room in hostel',\n",
       " 'Shared room in serviced apartment',\n",
       " 'Shared room in townhouse',\n",
       " 'Shared room in vacation home',\n",
       " 'Tent',\n",
       " 'Tower']"
      ]
     },
     "execution_count": 24,
     "metadata": {},
     "output_type": "execute_result"
    }
   ],
   "source": [
    "# Check average price and count of listings by neighborhood\n",
    "price_by_type = listings.groupby(by=['property_type'])['price_int']\\\n",
    "                    .agg(['mean','count'])\n",
    "price_by_type = pd.DataFrame(price_by_type)\n",
    "price_by_type.sort_values(['count'],ascending=True).head(40)\n",
    "drop_property_types = price_by_type.loc[price_by_type['count'] <= 5].index\n",
    "list(drop_property_types)"
   ]
  },
  {
   "cell_type": "code",
   "execution_count": 25,
   "id": "e574b560",
   "metadata": {
    "scrolled": true
   },
   "outputs": [
    {
     "data": {
      "text/html": [
       "<div>\n",
       "<style scoped>\n",
       "    .dataframe tbody tr th:only-of-type {\n",
       "        vertical-align: middle;\n",
       "    }\n",
       "\n",
       "    .dataframe tbody tr th {\n",
       "        vertical-align: top;\n",
       "    }\n",
       "\n",
       "    .dataframe thead th {\n",
       "        text-align: right;\n",
       "    }\n",
       "</style>\n",
       "<table border=\"1\" class=\"dataframe\">\n",
       "  <thead>\n",
       "    <tr style=\"text-align: right;\">\n",
       "      <th></th>\n",
       "      <th>mean</th>\n",
       "      <th>count</th>\n",
       "    </tr>\n",
       "    <tr>\n",
       "      <th>bedrooms</th>\n",
       "      <th></th>\n",
       "      <th></th>\n",
       "    </tr>\n",
       "  </thead>\n",
       "  <tbody>\n",
       "    <tr>\n",
       "      <th>10.0</th>\n",
       "      <td>1643.0</td>\n",
       "      <td>1</td>\n",
       "    </tr>\n",
       "    <tr>\n",
       "      <th>11.0</th>\n",
       "      <td>66.0</td>\n",
       "      <td>1</td>\n",
       "    </tr>\n",
       "    <tr>\n",
       "      <th>13.0</th>\n",
       "      <td>412.0</td>\n",
       "      <td>1</td>\n",
       "    </tr>\n",
       "    <tr>\n",
       "      <th>14.0</th>\n",
       "      <td>2029.0</td>\n",
       "      <td>1</td>\n",
       "    </tr>\n",
       "    <tr>\n",
       "      <th>15.0</th>\n",
       "      <td>1590.0</td>\n",
       "      <td>1</td>\n",
       "    </tr>\n",
       "  </tbody>\n",
       "</table>\n",
       "</div>"
      ],
      "text/plain": [
       "            mean  count\n",
       "bedrooms               \n",
       "10.0      1643.0      1\n",
       "11.0        66.0      1\n",
       "13.0       412.0      1\n",
       "14.0      2029.0      1\n",
       "15.0      1590.0      1"
      ]
     },
     "execution_count": 25,
     "metadata": {},
     "output_type": "execute_result"
    }
   ],
   "source": [
    "# Check average price and count of listings by neighborhood\n",
    "price_by_rooms = listings.groupby(by=['bedrooms'])['price_int']\\\n",
    "                    .agg(['mean','count'])\n",
    "price_by_rooms = pd.DataFrame(price_by_rooms)\n",
    "price_by_rooms.sort_values(['count'],ascending=True).head()"
   ]
  },
  {
   "cell_type": "code",
   "execution_count": 26,
   "id": "71e0bf92",
   "metadata": {},
   "outputs": [
    {
     "data": {
      "image/png": "[encoded data removed]",
      "text/plain": [
       "<Figure size 432x288 with 1 Axes>"
      ]
     },
     "metadata": {
      "needs_background": "light"
     },
     "output_type": "display_data"
    }
   ],
   "source": [
    "plt.scatter(x=listings['number_of_reviews'],y=listings['price_int']);\n",
    "plt.xlabel('Number of Reviews');\n",
    "plt.ylabel('Price');"
   ]
  },
  {
   "cell_type": "markdown",
   "id": "d14f9184",
   "metadata": {},
   "source": [
    "### Outlier Removal"
   ]
  },
  {
   "cell_type": "code",
   "execution_count": 27,
   "id": "bac0e216",
   "metadata": {},
   "outputs": [],
   "source": [
    "# Remove listings with more than 10 rooms\n",
    "model_data = model_data.loc[model_data['bedrooms'] <= 10]\n",
    "\n",
    "# Remove listings with a minimum stay greater than a year\n",
    "model_data = model_data.loc[model_data['minimum_nights'] < 365]"
   ]
  },
  {
   "cell_type": "code",
   "execution_count": 28,
   "id": "a72fe417",
   "metadata": {},
   "outputs": [],
   "source": [
    "# Remove listings for property types with count less than 6\n",
    "model_data = model_data[~model_data['property_type'].isin(drop_property_types)]"
   ]
  },
  {
   "cell_type": "code",
   "execution_count": 29,
   "id": "903b1bc3",
   "metadata": {
    "scrolled": true
   },
   "outputs": [
    {
     "data": {
      "text/html": [
       "<div>\n",
       "<style scoped>\n",
       "    .dataframe tbody tr th:only-of-type {\n",
       "        vertical-align: middle;\n",
       "    }\n",
       "\n",
       "    .dataframe tbody tr th {\n",
       "        vertical-align: top;\n",
       "    }\n",
       "\n",
       "    .dataframe thead th {\n",
       "        text-align: right;\n",
       "    }\n",
       "</style>\n",
       "<table border=\"1\" class=\"dataframe\">\n",
       "  <thead>\n",
       "    <tr style=\"text-align: right;\">\n",
       "      <th></th>\n",
       "      <th>host_acceptance_rate</th>\n",
       "      <th>host_is_superhost</th>\n",
       "      <th>host_listings_count</th>\n",
       "      <th>short-term</th>\n",
       "      <th>host_total_listings_count</th>\n",
       "      <th>host_verifications</th>\n",
       "      <th>host_has_profile_pic</th>\n",
       "      <th>host_identity_verified</th>\n",
       "      <th>neighbourhood_cleansed</th>\n",
       "      <th>latitude</th>\n",
       "      <th>...</th>\n",
       "      <th>calculated_host_listings_count_shared_rooms</th>\n",
       "      <th>city</th>\n",
       "      <th>price_int</th>\n",
       "      <th>review_count_bin</th>\n",
       "      <th>air_conditioning</th>\n",
       "      <th>washer_dryer</th>\n",
       "      <th>num_amenities</th>\n",
       "      <th>bedrooms_per_accomodates</th>\n",
       "      <th>max_burrough_price</th>\n",
       "      <th>price_cutoff</th>\n",
       "    </tr>\n",
       "  </thead>\n",
       "  <tbody>\n",
       "    <tr>\n",
       "      <th>0</th>\n",
       "      <td>100.0</td>\n",
       "      <td>0</td>\n",
       "      <td>1.0</td>\n",
       "      <td>0.0</td>\n",
       "      <td>1.0</td>\n",
       "      <td>['email', 'phone']</td>\n",
       "      <td>t</td>\n",
       "      <td>t</td>\n",
       "      <td>Bedford-Stuyvesant</td>\n",
       "      <td>40.68535</td>\n",
       "      <td>...</td>\n",
       "      <td>0</td>\n",
       "      <td>New York City</td>\n",
       "      <td>60.0</td>\n",
       "      <td>Between 50 and 200</td>\n",
       "      <td>1</td>\n",
       "      <td>0</td>\n",
       "      <td>5</td>\n",
       "      <td>0.5</td>\n",
       "      <td>7184.0</td>\n",
       "      <td>3592.0</td>\n",
       "    </tr>\n",
       "    <tr>\n",
       "      <th>1</th>\n",
       "      <td>50.0</td>\n",
       "      <td>0</td>\n",
       "      <td>1.0</td>\n",
       "      <td>1.0</td>\n",
       "      <td>1.0</td>\n",
       "      <td>['email', 'phone']</td>\n",
       "      <td>t</td>\n",
       "      <td>t</td>\n",
       "      <td>Sunset Park</td>\n",
       "      <td>40.66265</td>\n",
       "      <td>...</td>\n",
       "      <td>0</td>\n",
       "      <td>New York City</td>\n",
       "      <td>275.0</td>\n",
       "      <td>Less than 10</td>\n",
       "      <td>1</td>\n",
       "      <td>1</td>\n",
       "      <td>22</td>\n",
       "      <td>0.5</td>\n",
       "      <td>7184.0</td>\n",
       "      <td>3592.0</td>\n",
       "    </tr>\n",
       "    <tr>\n",
       "      <th>2</th>\n",
       "      <td>100.0</td>\n",
       "      <td>0</td>\n",
       "      <td>1.0</td>\n",
       "      <td>1.0</td>\n",
       "      <td>1.0</td>\n",
       "      <td>['email', 'phone']</td>\n",
       "      <td>t</td>\n",
       "      <td>f</td>\n",
       "      <td>Midtown</td>\n",
       "      <td>40.76457</td>\n",
       "      <td>...</td>\n",
       "      <td>0</td>\n",
       "      <td>New York City</td>\n",
       "      <td>68.0</td>\n",
       "      <td>200 or greater</td>\n",
       "      <td>1</td>\n",
       "      <td>0</td>\n",
       "      <td>25</td>\n",
       "      <td>0.5</td>\n",
       "      <td>12900.0</td>\n",
       "      <td>6450.0</td>\n",
       "    </tr>\n",
       "    <tr>\n",
       "      <th>3</th>\n",
       "      <td>NaN</td>\n",
       "      <td>0</td>\n",
       "      <td>1.0</td>\n",
       "      <td>1.0</td>\n",
       "      <td>1.0</td>\n",
       "      <td>['email', 'phone']</td>\n",
       "      <td>t</td>\n",
       "      <td>t</td>\n",
       "      <td>Upper West Side</td>\n",
       "      <td>40.80380</td>\n",
       "      <td>...</td>\n",
       "      <td>0</td>\n",
       "      <td>New York City</td>\n",
       "      <td>75.0</td>\n",
       "      <td>Between 50 and 200</td>\n",
       "      <td>1</td>\n",
       "      <td>0</td>\n",
       "      <td>15</td>\n",
       "      <td>1.0</td>\n",
       "      <td>12900.0</td>\n",
       "      <td>6450.0</td>\n",
       "    </tr>\n",
       "    <tr>\n",
       "      <th>4</th>\n",
       "      <td>60.0</td>\n",
       "      <td>1</td>\n",
       "      <td>3.0</td>\n",
       "      <td>0.0</td>\n",
       "      <td>3.0</td>\n",
       "      <td>['email', 'phone']</td>\n",
       "      <td>t</td>\n",
       "      <td>t</td>\n",
       "      <td>Morningside Heights</td>\n",
       "      <td>40.80316</td>\n",
       "      <td>...</td>\n",
       "      <td>0</td>\n",
       "      <td>New York City</td>\n",
       "      <td>135.0</td>\n",
       "      <td>Between 50 and 200</td>\n",
       "      <td>1</td>\n",
       "      <td>0</td>\n",
       "      <td>15</td>\n",
       "      <td>0.5</td>\n",
       "      <td>12900.0</td>\n",
       "      <td>6450.0</td>\n",
       "    </tr>\n",
       "  </tbody>\n",
       "</table>\n",
       "<p>5 rows × 52 columns</p>\n",
       "</div>"
      ],
      "text/plain": [
       "   host_acceptance_rate  host_is_superhost  host_listings_count  short-term  \\\n",
       "0                 100.0                  0                  1.0         0.0   \n",
       "1                  50.0                  0                  1.0         1.0   \n",
       "2                 100.0                  0                  1.0         1.0   \n",
       "3                   NaN                  0                  1.0         1.0   \n",
       "4                  60.0                  1                  3.0         0.0   \n",
       "\n",
       "   host_total_listings_count  host_verifications host_has_profile_pic  \\\n",
       "0                        1.0  ['email', 'phone']                    t   \n",
       "1                        1.0  ['email', 'phone']                    t   \n",
       "2                        1.0  ['email', 'phone']                    t   \n",
       "3                        1.0  ['email', 'phone']                    t   \n",
       "4                        3.0  ['email', 'phone']                    t   \n",
       "\n",
       "  host_identity_verified neighbourhood_cleansed  latitude  ...  \\\n",
       "0                      t     Bedford-Stuyvesant  40.68535  ...   \n",
       "1                      t            Sunset Park  40.66265  ...   \n",
       "2                      f                Midtown  40.76457  ...   \n",
       "3                      t        Upper West Side  40.80380  ...   \n",
       "4                      t    Morningside Heights  40.80316  ...   \n",
       "\n",
       "   calculated_host_listings_count_shared_rooms           city price_int  \\\n",
       "0                                            0  New York City      60.0   \n",
       "1                                            0  New York City     275.0   \n",
       "2                                            0  New York City      68.0   \n",
       "3                                            0  New York City      75.0   \n",
       "4                                            0  New York City     135.0   \n",
       "\n",
       "     review_count_bin air_conditioning  washer_dryer  num_amenities  \\\n",
       "0  Between 50 and 200                1             0              5   \n",
       "1        Less than 10                1             1             22   \n",
       "2      200 or greater                1             0             25   \n",
       "3  Between 50 and 200                1             0             15   \n",
       "4  Between 50 and 200                1             0             15   \n",
       "\n",
       "  bedrooms_per_accomodates max_burrough_price  price_cutoff  \n",
       "0                      0.5             7184.0        3592.0  \n",
       "1                      0.5             7184.0        3592.0  \n",
       "2                      0.5            12900.0        6450.0  \n",
       "3                      1.0            12900.0        6450.0  \n",
       "4                      0.5            12900.0        6450.0  \n",
       "\n",
       "[5 rows x 52 columns]"
      ]
     },
     "execution_count": 29,
     "metadata": {},
     "output_type": "execute_result"
    }
   ],
   "source": [
    "# Remove listings at a price that exceeds 50% of the max price for each burrough\n",
    "model_data = pd.merge(model_data,max_price_by_burrough,how='left',on='neighbourhood_group_cleansed')\n",
    "model_data = model_data.loc[model_data['price_int'] < model_data['price_cutoff']]\n",
    "model_data.head()"
   ]
  },
  {
   "cell_type": "code",
   "execution_count": 30,
   "id": "f91f4f4d",
   "metadata": {},
   "outputs": [],
   "source": [
    "model_data = model_data.loc[model_data['number_of_reviews'] > 20]"
   ]
  },
  {
   "cell_type": "markdown",
   "id": "e788e294",
   "metadata": {},
   "source": [
    "### Modeling"
   ]
  },
  {
   "cell_type": "markdown",
   "id": "fc9b6140",
   "metadata": {},
   "source": [
    "#### Linear Model"
   ]
  },
  {
   "cell_type": "code",
   "execution_count": 31,
   "id": "0f02b6ba",
   "metadata": {},
   "outputs": [],
   "source": [
    "# initialize empty list to store linear model results\n",
    "results_tracker = []\n",
    "\n",
    "def linear_model(data):\n",
    "    # Removes any lingering null values - may need to rethink location of this\n",
    "    data.dropna(inplace=True)\n",
    "    # Assign X and y\n",
    "    y = data['price_int']\n",
    "    X = data.drop(columns='price_int').values\n",
    "\n",
    "    # Split the data into train and test data\n",
    "    X_train, X_test, y_train, y_test = train_test_split(X,y,random_state=1)\n",
    "\n",
    "    # Instantiate and train the model\n",
    "    reg = LinearRegression()\n",
    "    reg.fit(X_train,y_train)\n",
    "    reg.score(X_train,y_train)\n",
    "    \n",
    "    print(f'Train score:\\t {reg.score(X_train,y_train)}')\n",
    "    print(f'Test score:\\t {reg.score(X_test,y_test)}')\n",
    "    \n",
    "    # Save the results into the results_tracker\n",
    "    results = {'train score' : reg.score(X_train,y_train),\n",
    "              'test score' : reg.score(X_test,y_test),\n",
    "              'features' : list(data.columns)}\n",
    "    results_tracker.append(results)"
   ]
  },
  {
   "cell_type": "markdown",
   "id": "486295b1",
   "metadata": {},
   "source": [
    "#### Run Linear Models"
   ]
  },
  {
   "cell_type": "code",
   "execution_count": 32,
   "id": "d4dda606",
   "metadata": {},
   "outputs": [],
   "source": [
    "model_data_1 = model_data[['price_int','bedrooms','accommodates']]"
   ]
  },
  {
   "cell_type": "code",
   "execution_count": 33,
   "id": "3d5f34d7",
   "metadata": {},
   "outputs": [
    {
     "name": "stdout",
     "output_type": "stream",
     "text": [
      "Train score:\t 0.26132403127931614\n",
      "Test score:\t 0.26583337414853403\n"
     ]
    },
    {
     "name": "stderr",
     "output_type": "stream",
     "text": [
      "C:\\Users\\jyesu_000\\anaconda3\\envs\\PythonData38\\lib\\site-packages\\pandas\\util\\_decorators.py:311: SettingWithCopyWarning: \n",
      "A value is trying to be set on a copy of a slice from a DataFrame\n",
      "\n",
      "See the caveats in the documentation: https://pandas.pydata.org/pandas-docs/stable/user_guide/indexing.html#returning-a-view-versus-a-copy\n",
      "  return func(*args, **kwargs)\n"
     ]
    }
   ],
   "source": [
    "linear_model(model_data_1)"
   ]
  },
  {
   "cell_type": "code",
   "execution_count": 34,
   "id": "bf033910",
   "metadata": {},
   "outputs": [],
   "source": [
    "model_data_2 = model_data[['price_int','accommodates','review_scores_rating']]"
   ]
  },
  {
   "cell_type": "code",
   "execution_count": 35,
   "id": "28d2f7de",
   "metadata": {},
   "outputs": [
    {
     "name": "stdout",
     "output_type": "stream",
     "text": [
      "Train score:\t 0.24806800596697298\n",
      "Test score:\t 0.26804330195316206\n"
     ]
    },
    {
     "name": "stderr",
     "output_type": "stream",
     "text": [
      "C:\\Users\\jyesu_000\\anaconda3\\envs\\PythonData38\\lib\\site-packages\\pandas\\util\\_decorators.py:311: SettingWithCopyWarning: \n",
      "A value is trying to be set on a copy of a slice from a DataFrame\n",
      "\n",
      "See the caveats in the documentation: https://pandas.pydata.org/pandas-docs/stable/user_guide/indexing.html#returning-a-view-versus-a-copy\n",
      "  return func(*args, **kwargs)\n"
     ]
    }
   ],
   "source": [
    "linear_model(model_data_2)"
   ]
  },
  {
   "cell_type": "code",
   "execution_count": 36,
   "id": "ef1d6a5e",
   "metadata": {},
   "outputs": [],
   "source": [
    "model_data_3 = model_data[['host_is_superhost','room_type', 'accommodates','bedrooms','number_of_reviews', \n",
    "                   'review_scores_rating','city', 'price_int']]\n",
    "model_data_3 = pd.get_dummies(model_data_3)"
   ]
  },
  {
   "cell_type": "code",
   "execution_count": 37,
   "id": "3c40ea8b",
   "metadata": {},
   "outputs": [
    {
     "name": "stdout",
     "output_type": "stream",
     "text": [
      "Train score:\t 0.2938030630620382\n",
      "Test score:\t 0.29156977018228725\n"
     ]
    }
   ],
   "source": [
    "linear_model(model_data_3)"
   ]
  },
  {
   "cell_type": "code",
   "execution_count": 38,
   "id": "cbd9f596",
   "metadata": {},
   "outputs": [],
   "source": [
    "model_data_4 = pd.get_dummies(model_data[['price_int','review_count_bin','review_scores_accuracy',\n",
    "       'review_scores_cleanliness', 'review_scores_checkin', 'number_of_reviews','host_acceptance_rate',\n",
    "       'review_scores_communication', 'review_scores_location', 'instant_bookable',\n",
    "       'review_scores_value','host_is_superhost','accommodates','bedrooms','review_scores_rating','room_type']])"
   ]
  },
  {
   "cell_type": "code",
   "execution_count": 39,
   "id": "37eec85d",
   "metadata": {},
   "outputs": [
    {
     "name": "stdout",
     "output_type": "stream",
     "text": [
      "Train score:\t 0.40811148149547527\n",
      "Test score:\t 0.38343546568723685\n"
     ]
    }
   ],
   "source": [
    "linear_model(model_data_4)"
   ]
  },
  {
   "cell_type": "code",
   "execution_count": 40,
   "id": "a82b367a",
   "metadata": {},
   "outputs": [],
   "source": [
    "model_data_5 = pd.get_dummies(model_data[['price_int','city','accommodates', 'bedrooms',\n",
    "                                          'review_scores_rating','number_of_reviews',\n",
    "                                          'host_is_superhost','instant_bookable','room_type']])"
   ]
  },
  {
   "cell_type": "code",
   "execution_count": 41,
   "id": "76cae801",
   "metadata": {},
   "outputs": [
    {
     "name": "stdout",
     "output_type": "stream",
     "text": [
      "Train score:\t 0.2942266807372744\n",
      "Test score:\t 0.2916297951723853\n"
     ]
    }
   ],
   "source": [
    "linear_model(model_data_5)"
   ]
  },
  {
   "cell_type": "code",
   "execution_count": 42,
   "id": "44576cbb",
   "metadata": {},
   "outputs": [],
   "source": [
    "model_data_6 = pd.get_dummies(model_data[['price_int','neighbourhood_group_cleansed',\n",
    "                                          'accommodates', 'bedrooms', 'air_conditioning',\n",
    "                                          'review_scores_rating','review_count_bin',\n",
    "                                          'host_is_superhost','host_identity_verified','room_type']])"
   ]
  },
  {
   "cell_type": "code",
   "execution_count": 43,
   "id": "68414d2e",
   "metadata": {},
   "outputs": [
    {
     "name": "stdout",
     "output_type": "stream",
     "text": [
      "Train score:\t 0.37275130270822143\n",
      "Test score:\t 0.37221349576975316\n"
     ]
    }
   ],
   "source": [
    "linear_model(model_data_6)"
   ]
  },
  {
   "cell_type": "code",
   "execution_count": 44,
   "id": "db12bb7a",
   "metadata": {},
   "outputs": [],
   "source": [
    "model_data_7 = pd.get_dummies(model_data[['host_is_superhost','room_type', 'accommodates','bedrooms','number_of_reviews', \n",
    "                   'review_scores_rating','price_int','neighbourhood_group_cleansed']])"
   ]
  },
  {
   "cell_type": "code",
   "execution_count": 45,
   "id": "a337c623",
   "metadata": {},
   "outputs": [
    {
     "name": "stdout",
     "output_type": "stream",
     "text": [
      "Train score:\t 0.3709479611424369\n",
      "Test score:\t 0.36983561961511824\n"
     ]
    }
   ],
   "source": [
    "linear_model(model_data_7)"
   ]
  },
  {
   "cell_type": "code",
   "execution_count": 46,
   "id": "7080c91b",
   "metadata": {},
   "outputs": [],
   "source": [
    "model_data_8 = pd.get_dummies(model_data[['price_int','neighbourhood_group_cleansed',\n",
    "       'review_scores_cleanliness','host_acceptance_rate', 'review_scores_communication',\n",
    "        'review_scores_location', 'instant_bookable','short-term', 'review_scores_checkin',\n",
    "       'review_scores_value','accommodates','bedrooms','review_scores_rating','room_type']])"
   ]
  },
  {
   "cell_type": "code",
   "execution_count": 47,
   "id": "aefcb14e",
   "metadata": {},
   "outputs": [
    {
     "name": "stdout",
     "output_type": "stream",
     "text": [
      "Train score:\t 0.4586770055163667\n",
      "Test score:\t 0.42240377626206627\n"
     ]
    }
   ],
   "source": [
    "linear_model(model_data_8)"
   ]
  },
  {
   "cell_type": "code",
   "execution_count": 48,
   "id": "8b7d3215",
   "metadata": {},
   "outputs": [],
   "source": [
    "model_data_9 = pd.get_dummies(model_data[['price_int','neighbourhood_group_cleansed','review_scores_accuracy',\n",
    "       'review_scores_cleanliness', 'review_scores_checkin', 'review_count_bin','host_acceptance_rate',\n",
    "       'review_scores_communication', 'review_scores_location', 'instant_bookable','short-term', 'air_conditioning',\n",
    "       'review_scores_value','host_is_superhost','accommodates','bedrooms','review_scores_rating','room_type']])"
   ]
  },
  {
   "cell_type": "code",
   "execution_count": 49,
   "id": "bd4fa24f",
   "metadata": {},
   "outputs": [
    {
     "name": "stdout",
     "output_type": "stream",
     "text": [
      "Train score:\t 0.4596519469884658\n",
      "Test score:\t 0.42339181255280056\n"
     ]
    }
   ],
   "source": [
    "linear_model(model_data_9)"
   ]
  },
  {
   "cell_type": "code",
   "execution_count": 50,
   "id": "fdbbdb31",
   "metadata": {},
   "outputs": [],
   "source": [
    "model_data_10 = pd.get_dummies(model_data[['price_int', 'neighbourhood_group_cleansed',\n",
    "                                           'review_count_bin', 'air_conditioning','accommodates',\n",
    "                                           'instant_bookable', 'short-term', 'num_amenities',\n",
    "                                           'host_identity_verified', 'bedrooms', 'bedrooms_per_accomodates',\n",
    "                                           'room_type']])"
   ]
  },
  {
   "cell_type": "code",
   "execution_count": 51,
   "id": "1b5fd2ea",
   "metadata": {},
   "outputs": [
    {
     "name": "stdout",
     "output_type": "stream",
     "text": [
      "Train score:\t 0.3741216880683057\n",
      "Test score:\t 0.36472746082923513\n"
     ]
    }
   ],
   "source": [
    "linear_model(model_data_10)"
   ]
  },
  {
   "cell_type": "code",
   "execution_count": 52,
   "id": "279d0b86",
   "metadata": {},
   "outputs": [],
   "source": [
    "model_data_11 = pd.get_dummies(model_data[['price_int','neighbourhood_group_cleansed',\n",
    "       'review_scores_cleanliness', 'review_count_bin', 'air_conditioning',\n",
    "        'review_scores_location', 'instant_bookable','short-term', 'accommodates',\n",
    "       'review_scores_value','review_scores_rating','room_type']])"
   ]
  },
  {
   "cell_type": "code",
   "execution_count": 53,
   "id": "2d97de5a",
   "metadata": {},
   "outputs": [
    {
     "name": "stdout",
     "output_type": "stream",
     "text": [
      "Train score:\t 0.3937571554108682\n",
      "Test score:\t 0.4081709834236543\n"
     ]
    }
   ],
   "source": [
    "linear_model(model_data_11)"
   ]
  },
  {
   "cell_type": "markdown",
   "id": "aa17791d",
   "metadata": {},
   "source": [
    "#### Review Results"
   ]
  },
  {
   "cell_type": "code",
   "execution_count": 54,
   "id": "c03a2be9",
   "metadata": {},
   "outputs": [
    {
     "name": "stdout",
     "output_type": "stream",
     "text": [
      "Best training score: 0.4596519469884658\n",
      "Number of features: 27\n",
      "Best features: ['price_int', 'review_scores_accuracy', 'review_scores_cleanliness', 'review_scores_checkin', 'host_acceptance_rate', 'review_scores_communication', 'review_scores_location', 'instant_bookable', 'short-term', 'air_conditioning', 'review_scores_value', 'host_is_superhost', 'accommodates', 'bedrooms', 'review_scores_rating', 'neighbourhood_group_cleansed_Bronx', 'neighbourhood_group_cleansed_Brooklyn', 'neighbourhood_group_cleansed_Manhattan', 'neighbourhood_group_cleansed_Queens', 'neighbourhood_group_cleansed_Staten Island', 'review_count_bin_200 or greater', 'review_count_bin_Between 10 and 50', 'review_count_bin_Between 50 and 200', 'room_type_Entire home/apt', 'room_type_Hotel room', 'room_type_Private room', 'room_type_Shared room']\n"
     ]
    }
   ],
   "source": [
    "# Remove duplicates from results_tracker and sort results in order of best training score\n",
    "results_summary = []\n",
    "[results_summary.append(x) for x in results_tracker if x not in results_summary]\n",
    "results_summary.sort(key=lambda result: result['train score'],reverse=True)\n",
    "\n",
    "# Print best result\n",
    "print(f'Best training score: {results_summary[0][\"train score\"]}')\n",
    "print(f'Number of features: {len(results_summary[0][\"features\"])}')\n",
    "print(f'Best features: {results_summary[0][\"features\"]}')"
   ]
  },
  {
   "cell_type": "code",
   "execution_count": 55,
   "id": "e2dabefa",
   "metadata": {},
   "outputs": [
    {
     "name": "stdout",
     "output_type": "stream",
     "text": [
      "['price_int', 'review_scores_cleanliness', 'host_acceptance_rate', 'review_scores_communication', 'review_scores_location', 'instant_bookable', 'short-term', 'review_scores_checkin', 'review_scores_value', 'accommodates', 'bedrooms', 'review_scores_rating', 'neighbourhood_group_cleansed_Bronx', 'neighbourhood_group_cleansed_Brooklyn', 'neighbourhood_group_cleansed_Manhattan', 'neighbourhood_group_cleansed_Queens', 'neighbourhood_group_cleansed_Staten Island', 'room_type_Entire home/apt', 'room_type_Hotel room', 'room_type_Private room', 'room_type_Shared room']\n"
     ]
    }
   ],
   "source": [
    "print(results_summary[1]['features'])"
   ]
  },
  {
   "cell_type": "code",
   "execution_count": 56,
   "id": "cb9f61d7",
   "metadata": {},
   "outputs": [
    {
     "data": {
      "text/plain": [
       "16"
      ]
     },
     "execution_count": 56,
     "metadata": {},
     "output_type": "execute_result"
    }
   ],
   "source": [
    "model_data['accommodates'].unique().max()"
   ]
  },
  {
   "cell_type": "markdown",
   "id": "250b28d9",
   "metadata": {},
   "source": [
    "#### Random Forest Regressor"
   ]
  },
  {
   "cell_type": "code",
   "execution_count": 57,
   "id": "d9de113c",
   "metadata": {},
   "outputs": [],
   "source": [
    "rfr_results_tracker = []\n",
    "\n",
    "def random_forests(data):\n",
    "    # Removes any lingering null values - may need to rethink location of this\n",
    "    data.dropna(inplace=True)\n",
    "    # Assign X and y\n",
    "    y = data['price_int']\n",
    "    X = data.drop(columns='price_int').values\n",
    "\n",
    "    # Split the data into train and test data\n",
    "    X_train, X_test, y_train, y_test = train_test_split(X,y,random_state=9)\n",
    "\n",
    "    # Instantiate and train the model\n",
    "    rfr = RandomForestRegressor(random_state=9)\n",
    "    rfr.fit(X_train,y_train)\n",
    "    rfr.score(X_train,y_train)\n",
    "    \n",
    "    print(f'Train score:\\t {rfr.score(X_train,y_train)}')\n",
    "    print(f'Test score:\\t {rfr.score(X_test,y_test)}')\n",
    "    \n",
    "    # Save the results into the results_tracker\n",
    "    results = {'train score' : rfr.score(X_train,y_train),\n",
    "              'test score' : rfr.score(X_test,y_test),\n",
    "              'features' : list(data.columns)}\n",
    "    rfr_results_tracker.append(results)"
   ]
  },
  {
   "cell_type": "markdown",
   "id": "da49b631",
   "metadata": {},
   "source": [
    "#### Run Random Forests Models"
   ]
  },
  {
   "cell_type": "code",
   "execution_count": 58,
   "id": "3b12a6dd",
   "metadata": {},
   "outputs": [
    {
     "name": "stdout",
     "output_type": "stream",
     "text": [
      "Train score:\t 0.9289833832511434\n",
      "Test score:\t 0.5143810013737884\n"
     ]
    }
   ],
   "source": [
    "random_forests(model_data_8)"
   ]
  },
  {
   "cell_type": "code",
   "execution_count": 59,
   "id": "ffcb2e77",
   "metadata": {},
   "outputs": [
    {
     "name": "stdout",
     "output_type": "stream",
     "text": [
      "Train score:\t 0.9295621735042559\n",
      "Test score:\t 0.5090369407156238\n"
     ]
    }
   ],
   "source": [
    "random_forests(model_data_9)"
   ]
  },
  {
   "cell_type": "code",
   "execution_count": 60,
   "id": "28d4c5a7",
   "metadata": {},
   "outputs": [
    {
     "name": "stdout",
     "output_type": "stream",
     "text": [
      "Train score:\t 0.9134875673953358\n",
      "Test score:\t 0.39932066998921634\n"
     ]
    }
   ],
   "source": [
    "random_forests(model_data_11)"
   ]
  },
  {
   "cell_type": "markdown",
   "id": "8bcdbf97",
   "metadata": {},
   "source": [
    "### Run and Export Final Model"
   ]
  },
  {
   "cell_type": "code",
   "execution_count": 61,
   "id": "d7a30f70",
   "metadata": {},
   "outputs": [
    {
     "name": "stdout",
     "output_type": "stream",
     "text": [
      "Train score:\t 0.9289833832511434\n",
      "Test score:\t 0.5143810013737884\n"
     ]
    }
   ],
   "source": [
    "# Using model_data_8\n",
    "data = model_data_8\n",
    "\n",
    "# Removes any lingering null values - may need to rethink location of this\n",
    "data.dropna(inplace=True)\n",
    "# Assign X and y\n",
    "y = data['price_int']\n",
    "X = data.drop(columns='price_int').values\n",
    "\n",
    "# Split the data into train and test data\n",
    "X_train, X_test, y_train, y_test = train_test_split(X,y,random_state=9)\n",
    "\n",
    "# Instantiate and train the model\n",
    "rfr = RandomForestRegressor(random_state=9)\n",
    "rfr.fit(X_train,y_train)\n",
    "rfr.score(X_train,y_train)\n",
    "    \n",
    "print(f'Train score:\\t {rfr.score(X_train,y_train)}')\n",
    "print(f'Test score:\\t {rfr.score(X_test,y_test)}')"
   ]
  },
  {
   "cell_type": "code",
   "execution_count": 62,
   "id": "986d3a23",
   "metadata": {},
   "outputs": [],
   "source": [
    "# from joblib import dump, load\n",
    "# dump(rfr, 'random_forest_model_8.joblib')"
   ]
  },
  {
   "cell_type": "code",
   "execution_count": 63,
   "id": "f9ad17f7",
   "metadata": {},
   "outputs": [],
   "source": [
    "# Rename columns for heatmap\n",
    "heatmap_data = model_data_8\n",
    "heatmap_data.columns = ['Price','Cleanliness Score','Host Acceptance Rate',\n",
    "                             'Communication Score', 'Location Score', 'Instant Bookable',\n",
    "                             'Short-term', 'Checkin Score', 'Value Score','Accommodates',\n",
    "                             'Bedrooms', 'Overall Score', 'Borough - Bronx', 'Borough - Brooklyn',\n",
    "                             'Borough - Manhattan', 'Borough - Queens', 'Borough - Staten Island',\n",
    "                             'Entire home', 'Hotel room', 'Private room', 'Shared room']"
   ]
  },
  {
   "cell_type": "code",
   "execution_count": 64,
   "id": "59ee8230",
   "metadata": {},
   "outputs": [
    {
     "data": {
      "image/png": "[encoded data removed]",
      "text/plain": [
       "<Figure size 432x288 with 2 Axes>"
      ]
     },
     "metadata": {
      "needs_background": "light"
     },
     "output_type": "display_data"
    }
   ],
   "source": [
    "# Plot correlation heatmap using Seaborn\n",
    "sn.heatmap(heatmap_data.corr());\n",
    "plt.title('Correlation Heatmap');"
   ]
  },
  {
   "cell_type": "code",
   "execution_count": null,
   "id": "914871a5",
   "metadata": {},
   "outputs": [],
   "source": []
  }
 ],
 "metadata": {
  "kernelspec": {
   "display_name": "Python [conda env:PythonData38] *",
   "language": "python",
   "name": "conda-env-PythonData38-py"
  },
  "language_info": {
   "codemirror_mode": {
    "name": "ipython",
    "version": 3
   },
   "file_extension": ".py",
   "mimetype": "text/x-python",
   "name": "python",
   "nbconvert_exporter": "python",
   "pygments_lexer": "ipython3",
   "version": "3.8.12"
  }
 },
 "nbformat": 4,
 "nbformat_minor": 5
}
