{
 "cells": [
  {
   "cell_type": "code",
   "execution_count": null,
   "id": "c92dc7c7",
   "metadata": {},
   "outputs": [],
   "source": [
    "import pandas as pd"
   ]
  },
  {
   "cell_type": "code",
   "execution_count": null,
   "id": "f0ac54b4",
   "metadata": {},
   "outputs": [],
   "source": [
    "# Import NY later\n",
    "# ny_listings = pd.read('Data/New_York_City.csv')\n",
    "denver_listings = pd.read_csv('Data/Denver.csv')\n",
    "# austin_listings = pd.read('Data/Austin.csv')\n",
    "sf_listings = pd.read_csv('Data/San_Francisco.csv')"
   ]
  },
  {
   "cell_type": "code",
   "execution_count": null,
   "id": "148fa89a",
   "metadata": {},
   "outputs": [],
   "source": [
    "# Add city column\n",
    "denver_listings['city'] = 'Denver'\n",
    "sf_listings['city'] = 'San Francisco'"
   ]
  },
  {
   "cell_type": "code",
   "execution_count": null,
   "id": "4de48e4a",
   "metadata": {},
   "outputs": [],
   "source": [
    "# Merge all city datasets\n",
    "listings_raw = pd.merge(denver_listings,sf_listings,how='outer')\n",
    "listings_raw.head()"
   ]
  },
  {
   "cell_type": "code",
   "execution_count": null,
   "id": "84e61ac8",
   "metadata": {},
   "outputs": [],
   "source": [
    "# See all columns in merged dataset\n",
    "listings_raw.columns"
   ]
  },
  {
   "cell_type": "code",
   "execution_count": null,
   "id": "777e6ec1",
   "metadata": {},
   "outputs": [],
   "source": [
    "# Keep relevant variables\n",
    "listings = pd.DataFrame(listings_raw[['id','host_acceptance_rate',\n",
    "       'host_is_superhost', 'latitude',\n",
    "       'longitude', 'property_type', 'room_type', 'accommodates',\n",
    "       'bathrooms_text', 'bedrooms', 'amenities', 'price',\n",
    "       'minimum_nights', 'maximum_nights',\n",
    "       'number_of_reviews',\n",
    "       'number_of_reviews_ltm', 'number_of_reviews_l30d',  \n",
    "       'review_scores_rating', 'review_scores_accuracy',\n",
    "       'review_scores_cleanliness', 'review_scores_checkin',\n",
    "       'review_scores_communication', 'review_scores_location',\n",
    "       'review_scores_value',\n",
    "       'reviews_per_month',\n",
    "       'city']])\n",
    "listings.head()"
   ]
  },
  {
   "cell_type": "code",
   "execution_count": null,
   "id": "03940be5",
   "metadata": {
    "scrolled": true
   },
   "outputs": [],
   "source": [
    "# Drop all rows with null values\n",
    "listings.dropna(inplace=True)\n",
    "listings"
   ]
  },
  {
   "cell_type": "code",
   "execution_count": null,
   "id": "903cb93e",
   "metadata": {
    "scrolled": true
   },
   "outputs": [],
   "source": [
    "# Convert t/f to 1/0\n",
    "listings['host_is_superhost'] = listings['host_is_superhost']\\\n",
    "                                .apply(lambda value: 1 if value == 't' else 0)\n",
    "listings.head()"
   ]
  },
  {
   "cell_type": "code",
   "execution_count": null,
   "id": "c5c43408",
   "metadata": {},
   "outputs": [],
   "source": [
    "listings['price']"
   ]
  },
  {
   "cell_type": "code",
   "execution_count": null,
   "id": "5fe93cc4",
   "metadata": {},
   "outputs": [],
   "source": [
    "# Convert price variable to float\n",
    "listings['price_int'] = listings['price'].str.replace('$', '')\n",
    "listings['price_int'] = listings['price_int'].str.replace(',', '')\n",
    "listings['price_int'] = listings['price_int'].astype(float)\n",
    "listings['price_int'].dtype"
   ]
  },
  {
   "cell_type": "code",
   "execution_count": null,
   "id": "90d1a9a1",
   "metadata": {},
   "outputs": [],
   "source": [
    "# listings.to_csv('Data/Consolidated_Data.csv')"
   ]
  },
  {
   "cell_type": "code",
   "execution_count": null,
   "id": "74e6addd",
   "metadata": {},
   "outputs": [],
   "source": [
    "# Create model dataset\n",
    "model_data = pd.get_dummies(listings[['price_int','accommodates','bedrooms','review_scores_rating','room_type','city']])\n",
    "model_data"
   ]
  },
  {
   "cell_type": "code",
   "execution_count": null,
   "id": "b51264d6",
   "metadata": {},
   "outputs": [],
   "source": [
    "from sklearn.model_selection import train_test_split"
   ]
  },
  {
   "cell_type": "code",
   "execution_count": null,
   "id": "db7e2af0",
   "metadata": {},
   "outputs": [],
   "source": [
    "# Assign X and y\n",
    "y = model_data['price_int']\n",
    "X = model_data.drop(columns='price_int').values\n",
    "\n",
    "X_train, X_test, y_train, y_test = train_test_split(X,y,random_state=42)"
   ]
  },
  {
   "cell_type": "code",
   "execution_count": null,
   "id": "be18869d",
   "metadata": {},
   "outputs": [],
   "source": [
    "from sklearn.linear_model import LinearRegression\n",
    "\n",
    "model = LinearRegression()\n",
    "model.fit(X_train,y_train)\n",
    "print(f'Model train score: {model.score(X_train,y_train)}')\n",
    "print(list(y_test[0:10]))\n",
    "print(list(model.predict(X_test[0:10])))"
   ]
  },
  {
   "cell_type": "code",
   "execution_count": null,
   "id": "46195f4c",
   "metadata": {
    "scrolled": true
   },
   "outputs": [],
   "source": [
    "model_data.corr()"
   ]
  },
  {
   "cell_type": "code",
   "execution_count": null,
   "id": "cc7a719f",
   "metadata": {},
   "outputs": [],
   "source": [
    "model_data_1 = model_data[['price_int','bedrooms','accommodates','room_type_Entire home/apt']]\n",
    "\n",
    "# Assign X and y\n",
    "y = model_data_1['price_int']\n",
    "X = model_data_1.drop(columns='price_int').values\n",
    "\n",
    "X_train, X_test, y_train, y_test = train_test_split(X,y,random_state=42)\n",
    "\n",
    "model_1 = LinearRegression()\n",
    "model_1.fit(X_train,y_train)\n",
    "model_1.score(X_train,y_train)"
   ]
  },
  {
   "cell_type": "code",
   "execution_count": null,
   "id": "d90f724e",
   "metadata": {},
   "outputs": [],
   "source": []
  }
 ],
 "metadata": {
  "kernelspec": {
   "display_name": "Python [conda env:PythonData38] *",
   "language": "python",
   "name": "conda-env-PythonData38-py"
  },
  "language_info": {
   "codemirror_mode": {
    "name": "ipython",
    "version": 3
   },
   "file_extension": ".py",
   "mimetype": "text/x-python",
   "name": "python",
   "nbconvert_exporter": "python",
   "pygments_lexer": "ipython3",
   "version": "3.8.12"
  }
 },
 "nbformat": 4,
 "nbformat_minor": 5
}
