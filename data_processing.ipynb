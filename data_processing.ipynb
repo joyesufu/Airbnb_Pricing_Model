{
 "cells": [
  {
   "cell_type": "markdown",
   "id": "43ff5cec",
   "metadata": {},
   "source": [
    "### Data Processing"
   ]
  },
  {
   "cell_type": "code",
   "execution_count": null,
   "id": "3757a6fc",
   "metadata": {},
   "outputs": [],
   "source": [
    "# Import dependencies\n",
    "import pandas as pd\n",
    "import matplotlib.pyplot as plt\n",
    "import seaborn as sn\n",
    "\n",
    "from sklearn.model_selection import train_test_split\n",
    "from sklearn.linear_model import LinearRegression\n",
    "from sklearn.ensemble import RandomForestRegressor"
   ]
  },
  {
   "cell_type": "code",
   "execution_count": null,
   "id": "f0ac54b4",
   "metadata": {},
   "outputs": [],
   "source": [
    "# Import NY later\n",
    "# ny_listings = pd.read('Data/New_York_City.csv')\n",
    "denver_listings = pd.read_csv('Data/Denver.csv')\n",
    "# austin_listings = pd.read('Data/Austin.csv')\n",
    "sf_listings = pd.read_csv('Data/San_Francisco.csv')"
   ]
  },
  {
   "cell_type": "code",
   "execution_count": null,
   "id": "148fa89a",
   "metadata": {},
   "outputs": [],
   "source": [
    "# Add city column\n",
    "denver_listings['city'] = 'Denver'\n",
    "sf_listings['city'] = 'San Francisco'"
   ]
  },
  {
   "cell_type": "code",
   "execution_count": null,
   "id": "4de48e4a",
   "metadata": {},
   "outputs": [],
   "source": [
    "# Merge all city datasets\n",
    "listings = pd.merge(denver_listings,sf_listings,how='outer')\n",
    "listings.tail()"
   ]
  },
  {
   "cell_type": "code",
   "execution_count": null,
   "id": "84e61ac8",
   "metadata": {
    "scrolled": true
   },
   "outputs": [],
   "source": [
    "# See all columns in merged dataset\n",
    "listings.columns"
   ]
  },
  {
   "cell_type": "code",
   "execution_count": null,
   "id": "959906a1",
   "metadata": {
    "scrolled": true
   },
   "outputs": [],
   "source": [
    "# Identify columns with null values exceeding 1500\n",
    "null_check = listings.isna().sum()\n",
    "remove_column_indices = []\n",
    "remove_columns = []\n",
    "[remove_columns.append(null_check.index[i]) for i in range(len(null_check)) if null_check[i] > 1500]\n",
    "remove_columns"
   ]
  },
  {
   "cell_type": "code",
   "execution_count": null,
   "id": "e924ea12",
   "metadata": {},
   "outputs": [],
   "source": [
    "# Check columns with most null values\n",
    "null_check.sort_values(ascending=False).head(20)"
   ]
  },
  {
   "cell_type": "code",
   "execution_count": null,
   "id": "93a6b2a9",
   "metadata": {},
   "outputs": [],
   "source": [
    "# Drop all rows with null values\n",
    "# listings.dropna(inplace=True)"
   ]
  },
  {
   "cell_type": "code",
   "execution_count": null,
   "id": "632e2fcb",
   "metadata": {},
   "outputs": [],
   "source": [
    "# Convert t/f to 1/0\n",
    "listings['host_is_superhost'] = listings['host_is_superhost']\\\n",
    "                                .apply(lambda value: 1 if value == 't' else 0)\n",
    "\n",
    "listings['instant_bookable'] = listings['instant_bookable']\\\n",
    "                                .apply(lambda value: 1 if value == 't' else 0)\n",
    "listings.head()"
   ]
  },
  {
   "cell_type": "code",
   "execution_count": null,
   "id": "483c17ed",
   "metadata": {},
   "outputs": [],
   "source": [
    "# Convert price variable to float\n",
    "listings['price_int'] = listings['price'].str.replace('$', '')\n",
    "listings['price_int'] = listings['price_int'].str.replace(',', '')\n",
    "listings['price_int'] = listings['price_int'].astype(float)\n",
    "listings['price_int'].dtype"
   ]
  },
  {
   "cell_type": "code",
   "execution_count": null,
   "id": "9ab2680d",
   "metadata": {},
   "outputs": [],
   "source": [
    "# Convert host acceptance rate from string to float\n",
    "listings['host_acceptance_rate'] = listings['host_acceptance_rate']\\\n",
    "                                .str.replace('%', '').astype(float)\n",
    "\n",
    "listings['host_acceptance_rate'].dtype"
   ]
  },
  {
   "cell_type": "code",
   "execution_count": null,
   "id": "76ab70c9",
   "metadata": {
    "scrolled": true
   },
   "outputs": [],
   "source": [
    "listings.columns"
   ]
  },
  {
   "cell_type": "code",
   "execution_count": null,
   "id": "39026641",
   "metadata": {},
   "outputs": [],
   "source": [
    "model_data = pd.DataFrame(listings[['host_acceptance_rate',\n",
    "       'host_is_superhost', 'host_listings_count',\n",
    "       'host_total_listings_count', 'host_verifications',\n",
    "       'host_has_profile_pic', 'host_identity_verified',\n",
    "       'neighbourhood_cleansed', 'latitude',\n",
    "       'longitude', 'property_type', 'room_type', 'accommodates',\n",
    "       'bathrooms_text', 'bedrooms', 'beds', 'amenities', 'price',\n",
    "       'minimum_nights', 'maximum_nights', 'minimum_minimum_nights',\n",
    "       'maximum_minimum_nights', 'minimum_maximum_nights',\n",
    "       'maximum_maximum_nights', 'minimum_nights_avg_ntm',\n",
    "       'maximum_nights_avg_ntm', 'number_of_reviews',\n",
    "       'number_of_reviews_ltm', 'number_of_reviews_l30d', 'review_scores_rating', 'review_scores_accuracy',\n",
    "       'review_scores_cleanliness', 'review_scores_checkin',\n",
    "       'review_scores_communication', 'review_scores_location',\n",
    "       'review_scores_value', 'instant_bookable',\n",
    "       'calculated_host_listings_count',\n",
    "       'calculated_host_listings_count_entire_homes',\n",
    "       'calculated_host_listings_count_private_rooms',\n",
    "       'calculated_host_listings_count_shared_rooms',\n",
    "       'city', 'price_int']])"
   ]
  },
  {
   "cell_type": "code",
   "execution_count": null,
   "id": "7d5d5d00",
   "metadata": {},
   "outputs": [],
   "source": [
    "number_of_amenities = []\n",
    "\n",
    "listings_amenities = list(model_data['amenities'])\n",
    "for amenities in listings_amenities[0:1]:\n",
    "    number_of_amenities.append(len(list(amenities)))\n",
    "    print(amenities)\n",
    "number_of_amenities"
   ]
  },
  {
   "cell_type": "code",
   "execution_count": null,
   "id": "5e2414b2",
   "metadata": {},
   "outputs": [],
   "source": [
    "model_data.dropna(inplace=True)\n",
    "model_data.describe()"
   ]
  },
  {
   "cell_type": "code",
   "execution_count": null,
   "id": "aa31fe6e",
   "metadata": {},
   "outputs": [],
   "source": [
    "# listings.to_csv('Data/Consolidated_Data.csv')"
   ]
  },
  {
   "cell_type": "markdown",
   "id": "a260c841",
   "metadata": {},
   "source": [
    "### Data Investigation"
   ]
  },
  {
   "cell_type": "code",
   "execution_count": null,
   "id": "defa5b8c",
   "metadata": {},
   "outputs": [],
   "source": [
    "# Check average price and count of listings by neighborhood\n",
    "avg_price_by_neighborhood = listings.groupby(by=['neighbourhood_cleansed'])['price_int']\\\n",
    "                    .agg(['mean','count'])\n",
    "avg_price_by_neighborhood = pd.DataFrame(avg_price_by_neighborhood)\n",
    "avg_price_by_neighborhood.sort_values(['mean'],ascending=False)"
   ]
  },
  {
   "cell_type": "code",
   "execution_count": null,
   "id": "41dddf89",
   "metadata": {
    "scrolled": true
   },
   "outputs": [],
   "source": [
    "# model_data.corr()"
   ]
  },
  {
   "cell_type": "code",
   "execution_count": null,
   "id": "9d26f64f",
   "metadata": {},
   "outputs": [],
   "source": [
    "# corrMatrix = model_data.corr()\n",
    "# sn.heatmap(corrMatrix, annot=True)\n",
    "# plt.show()"
   ]
  },
  {
   "cell_type": "code",
   "execution_count": null,
   "id": "b75fe5fb",
   "metadata": {},
   "outputs": [],
   "source": [
    "# model_data_3 = listings[['host_is_superhost','room_type', 'accommodates','bedrooms','number_of_reviews', \n",
    "#                    'review_scores_rating','city', 'price_int']]\n",
    "# model_data_3 = pd.get_dummies(model_data_3)"
   ]
  },
  {
   "cell_type": "code",
   "execution_count": null,
   "id": "8fa3dc76",
   "metadata": {},
   "outputs": [],
   "source": [
    "# corrMatrix = eg_data_dum.corr()\n",
    "# sn.heatmap(corrMatrix, annot=True)\n",
    "# plt.show()"
   ]
  },
  {
   "cell_type": "markdown",
   "id": "c1268ace",
   "metadata": {},
   "source": [
    "#### Linear Model"
   ]
  },
  {
   "cell_type": "code",
   "execution_count": null,
   "id": "0f02b6ba",
   "metadata": {},
   "outputs": [],
   "source": [
    "# initialize empty list to store linear model results\n",
    "results_tracker = []\n",
    "\n",
    "def linear_model(data):\n",
    "    # Removes any lingering null values - may need to rethink location of this\n",
    "    data.dropna(inplace=True)\n",
    "    # Assign X and y\n",
    "    y = data['price_int']\n",
    "    X = data.drop(columns='price_int').values\n",
    "\n",
    "    # Split the data into train and test data\n",
    "    X_train, X_test, y_train, y_test = train_test_split(X,y,random_state=1)\n",
    "\n",
    "    # Instantiate and train the model\n",
    "    reg = LinearRegression()\n",
    "    reg.fit(X_train,y_train)\n",
    "    reg.score(X_train,y_train)\n",
    "    \n",
    "    print(f'Train score:\\t {reg.score(X_train,y_train)}')\n",
    "    print(f'Test score:\\t {reg.score(X_test,y_test)}')\n",
    "    \n",
    "    # Save the results into the results_tracker\n",
    "    results = {'train score' : reg.score(X_train,y_train),\n",
    "              'test score' : reg.score(X_test,y_test),\n",
    "              'features' : list(data.columns)}\n",
    "    results_tracker.append(results)"
   ]
  },
  {
   "cell_type": "markdown",
   "id": "a0ffdf9c",
   "metadata": {},
   "source": [
    "#### Run Models"
   ]
  },
  {
   "cell_type": "code",
   "execution_count": null,
   "id": "6b06ac26",
   "metadata": {},
   "outputs": [],
   "source": [
    "model_data_1 = model_data[['price_int','bedrooms','accommodates']]\n",
    "linear_model(model_data_1)"
   ]
  },
  {
   "cell_type": "code",
   "execution_count": null,
   "id": "e5a8fd19",
   "metadata": {},
   "outputs": [],
   "source": [
    "model_data_2 = model_data[['price_int','accommodates','review_scores_rating']]\n",
    "linear_model(model_data_2)"
   ]
  },
  {
   "cell_type": "code",
   "execution_count": null,
   "id": "5ab6fdcd",
   "metadata": {},
   "outputs": [],
   "source": [
    "model_data_3 = model_data[['host_is_superhost','room_type', 'accommodates','bedrooms','number_of_reviews', \n",
    "                   'review_scores_rating','city', 'price_int']]\n",
    "model_data_3 = pd.get_dummies(model_data_3)\n",
    "linear_model(model_data_3)"
   ]
  },
  {
   "cell_type": "code",
   "execution_count": null,
   "id": "9a866c5b",
   "metadata": {},
   "outputs": [],
   "source": [
    "model_data_4 = pd.get_dummies(model_data[['price_int','neighbourhood_cleansed','review_scores_accuracy',\n",
    "       'review_scores_cleanliness', 'review_scores_checkin', 'number_of_reviews','host_acceptance_rate',\n",
    "       'review_scores_communication', 'review_scores_location', 'instant_bookable',\n",
    "       'review_scores_value','host_is_superhost','accommodates','bedrooms','review_scores_rating','room_type']])\n",
    "linear_model(model_data_4)"
   ]
  },
  {
   "cell_type": "code",
   "execution_count": null,
   "id": "077f6ed1",
   "metadata": {},
   "outputs": [],
   "source": [
    "model_data_5 = pd.get_dummies(model_data[['price_int','city','accommodates', 'bedrooms',\n",
    "                                          'review_scores_rating','number_of_reviews',\n",
    "                                          'host_is_superhost','instant_bookable','room_type']])\n",
    "linear_model(model_data_5)"
   ]
  },
  {
   "cell_type": "markdown",
   "id": "147a0d20",
   "metadata": {},
   "source": [
    "#### Review Results"
   ]
  },
  {
   "cell_type": "code",
   "execution_count": null,
   "id": "4b9b4ce2",
   "metadata": {},
   "outputs": [],
   "source": [
    "# Remove duplicates from results_tracker and sort results in order of best training score\n",
    "results_summary = []\n",
    "[results_summary.append(x) for x in results_tracker if x not in results_summary]\n",
    "results_summary.sort(key=lambda result: result['train score'],reverse=True)\n",
    "\n",
    "# Print best result\n",
    "print(f'Best training score: {results_summary[0][\"train score\"]}')\n",
    "print(f'Best features: {results_summary[0][\"features\"]}')"
   ]
  },
  {
   "cell_type": "markdown",
   "id": "bd6a5383",
   "metadata": {},
   "source": [
    "#### Random Forest Classifier"
   ]
  },
  {
   "cell_type": "code",
   "execution_count": null,
   "id": "c2fff03c",
   "metadata": {},
   "outputs": [],
   "source": [
    "rfr_results_tracker = []\n",
    "\n",
    "def random_forests(data):\n",
    "    # Removes any lingering null values - may need to rethink location of this\n",
    "#     data.dropna(inplace=True)\n",
    "    # Assign X and y\n",
    "    y = data['price_int']\n",
    "    X = data.drop(columns='price_int').values\n",
    "\n",
    "    # Split the data into train and test data\n",
    "    X_train, X_test, y_train, y_test = train_test_split(X,y,random_state=1)\n",
    "\n",
    "    # Instantiate and train the model\n",
    "    rfr = RandomForestRegressor(random_state=9)\n",
    "    rfr.fit(X_train,y_train)\n",
    "    rfr.score(X_train,y_train)\n",
    "    \n",
    "    print(f'Train score:\\t {rfr.score(X_train,y_train)}')\n",
    "    print(f'Test score:\\t {rfr.score(X_test,y_test)}')\n",
    "    \n",
    "    # Save the results into the results_tracker\n",
    "    results = {'train score' : rfr.score(X_train,y_train),\n",
    "              'test score' : rfr.score(X_test,y_test),\n",
    "              'features' : list(data.columns)}\n",
    "    rfr_results_tracker.append(results)"
   ]
  },
  {
   "cell_type": "code",
   "execution_count": null,
   "id": "d9606ec6",
   "metadata": {},
   "outputs": [],
   "source": [
    "random_forests(model_data_2)"
   ]
  },
  {
   "cell_type": "code",
   "execution_count": null,
   "id": "fca3fe70",
   "metadata": {},
   "outputs": [],
   "source": []
  }
 ],
 "metadata": {
  "kernelspec": {
   "display_name": "Python [conda env:PythonData38] *",
   "language": "python",
   "name": "conda-env-PythonData38-py"
  },
  "language_info": {
   "codemirror_mode": {
    "name": "ipython",
    "version": 3
   },
   "file_extension": ".py",
   "mimetype": "text/x-python",
   "name": "python",
   "nbconvert_exporter": "python",
   "pygments_lexer": "ipython3",
   "version": "3.8.12"
  }
 },
 "nbformat": 4,
 "nbformat_minor": 5
}
